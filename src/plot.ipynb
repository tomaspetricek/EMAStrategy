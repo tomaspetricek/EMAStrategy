{
 "cells": [
  {
   "cell_type": "code",
   "execution_count": null,
   "id": "e4294fa7",
   "metadata": {},
   "outputs": [],
   "source": [
    "# import libraries\n",
    "import numpy as np\n",
    "np.set_printoptions(precision = 4, suppress = True)\n",
    "import pandas as pd\n",
    "import os\n",
    "from datetime import datetime\n",
    "%matplotlib qt\n",
    "\n",
    "# ignore warnings\n",
    "import warnings\n",
    "warnings.filterwarnings('ignore')\n",
    "\n",
    "# import modules\n",
    "from widgets import CandlestickWidget"
   ]
  },
  {
   "cell_type": "code",
   "execution_count": 20,
   "id": "8992d49e",
   "metadata": {},
   "outputs": [],
   "source": [
    "out_data_dir = \"../data/out\"\n",
    "in_data_dir = \"../data/in\""
   ]
  },
  {
   "cell_type": "code",
   "execution_count": 21,
   "id": "d81ce369",
   "metadata": {},
   "outputs": [],
   "source": [
    "def get_data_points(csv_path, sep=\",\", date_col=\"time\"):    \n",
    "    # read file\n",
    "    data_points = pd.read_csv(csv_path, sep)\n",
    "    \n",
    "    # convert time\n",
    "    data_points[date_col] = data_points[date_col].apply(lambda x: datetime.utcfromtimestamp(x))\n",
    "    \n",
    "    # set index\n",
    "    data_points.set_index(date_col, inplace=True)\n",
    "\n",
    "    return data_points"
   ]
  },
  {
   "cell_type": "code",
   "execution_count": 22,
   "id": "94fd2900",
   "metadata": {},
   "outputs": [],
   "source": [
    "open_points = get_data_points(os.path.join(out_data_dir, \"open_points.csv\"))\n",
    "closed_points = get_data_points(os.path.join(out_data_dir, \"closed_points.csv\"))\n",
    "mean_price_points = get_data_points(os.path.join(out_data_dir, \"mean_price_points.csv\"))\n",
    "indic_points = get_data_points(os.path.join(out_data_dir, \"indicator_values.csv\"))"
   ]
  },
  {
   "cell_type": "code",
   "execution_count": 23,
   "id": "fa4d9aa4",
   "metadata": {},
   "outputs": [],
   "source": [
    "candlestick_points = get_data_points(os.path.join(in_data_dir, \"btc-usdt-1h-test-1.csv\"), sep=\";\")\n",
    "candlestick_points = candlestick_points[[\"open\", \"high\", \"low\", \"close\"]]"
   ]
  },
  {
   "cell_type": "code",
   "execution_count": 24,
   "id": "f13bad0f",
   "metadata": {},
   "outputs": [],
   "source": [
    "# reindex\n",
    "#open_points = open_points.reindex(candlestick_points.index)\n",
    "#closed_points = close_points.reindex(candlestick_points.index)\n",
    "mean_price_points = mean_price_points.reindex(candlestick_points.index)\n",
    "indic_points = indic_points.reindex(candlestick_points.index)"
   ]
  },
  {
   "cell_type": "code",
   "execution_count": 25,
   "id": "a35056a9",
   "metadata": {},
   "outputs": [],
   "source": [
    "pair = \"BTC/USDT\"\n",
    "interval = \"1 hour\"\n",
    "title = f\"{pair}\\n{interval}\""
   ]
  },
  {
   "cell_type": "code",
   "execution_count": 26,
   "id": "9086b629",
   "metadata": {},
   "outputs": [
    {
     "ename": "ValueError",
     "evalue": "x and y must be the same size",
     "output_type": "error",
     "traceback": [
      "\u001b[0;31m---------------------------------------------------------------------------\u001b[0m",
      "\u001b[0;31mValueError\u001b[0m                                Traceback (most recent call last)",
      "Input \u001b[0;32mIn [26]\u001b[0m, in \u001b[0;36m<cell line: 1>\u001b[0;34m()\u001b[0m\n\u001b[0;32m----> 1\u001b[0m candles \u001b[38;5;241m=\u001b[39m \u001b[43mCandlestickWidget\u001b[49m\u001b[43m(\u001b[49m\u001b[43mcandlestick_points\u001b[49m\u001b[43m,\u001b[49m\u001b[43m \u001b[49m\u001b[43mindic_points\u001b[49m\u001b[43m,\u001b[49m\u001b[43m \u001b[49m\u001b[43mmean_price_points\u001b[49m\u001b[43m,\u001b[49m\u001b[43m \u001b[49m\u001b[43mopen_points\u001b[49m\u001b[43m,\u001b[49m\u001b[43m \u001b[49m\u001b[43mclosed_points\u001b[49m\u001b[43m,\u001b[49m\u001b[43m \u001b[49m\u001b[43mtitle\u001b[49m\u001b[43m)\u001b[49m\n",
      "File \u001b[0;32m~/CVUT/cvut-2022-2023/diplomova-prace/backtesting/src/widgets.py:23\u001b[0m, in \u001b[0;36mCandlestickWidget.__init__\u001b[0;34m(self, candlestick_points, indic_points, mean_price_points, open_points, closed_points, fig_title, n_points_visible)\u001b[0m\n\u001b[1;32m     21\u001b[0m \u001b[38;5;28mself\u001b[39m\u001b[38;5;241m.\u001b[39m_create_labels()\n\u001b[1;32m     22\u001b[0m \u001b[38;5;28mself\u001b[39m\u001b[38;5;241m.\u001b[39m_create_figure(fig_title)\n\u001b[0;32m---> 23\u001b[0m \u001b[38;5;28;43mself\u001b[39;49m\u001b[38;5;241;43m.\u001b[39;49m\u001b[43m_create_slider\u001b[49m\u001b[43m(\u001b[49m\u001b[43m)\u001b[49m\n",
      "File \u001b[0;32m~/CVUT/cvut-2022-2023/diplomova-prace/backtesting/src/widgets.py:66\u001b[0m, in \u001b[0;36mCandlestickWidget._create_slider\u001b[0;34m(self)\u001b[0m\n\u001b[1;32m     63\u001b[0m \u001b[38;5;28mself\u001b[39m\u001b[38;5;241m.\u001b[39m_time_slider\u001b[38;5;241m.\u001b[39mon_changed(\u001b[38;5;28mself\u001b[39m\u001b[38;5;241m.\u001b[39m_update)\n\u001b[1;32m     65\u001b[0m \u001b[38;5;66;03m# make initial update\u001b[39;00m\n\u001b[0;32m---> 66\u001b[0m \u001b[38;5;28;43mself\u001b[39;49m\u001b[38;5;241;43m.\u001b[39;49m\u001b[43m_update\u001b[49m\u001b[43m(\u001b[49m\u001b[43mslider_min_val\u001b[49m\u001b[43m)\u001b[49m\n",
      "File \u001b[0;32m~/CVUT/cvut-2022-2023/diplomova-prace/backtesting/src/widgets.py:85\u001b[0m, in \u001b[0;36mCandlestickWidget._update\u001b[0;34m(self, min_pos)\u001b[0m\n\u001b[1;32m     83\u001b[0m min_time \u001b[38;5;241m=\u001b[39m num2date(min_pos)\n\u001b[1;32m     84\u001b[0m max_time \u001b[38;5;241m=\u001b[39m num2date(min_pos) \u001b[38;5;241m+\u001b[39m \u001b[38;5;28mself\u001b[39m\u001b[38;5;241m.\u001b[39m_delta_time\n\u001b[0;32m---> 85\u001b[0m \u001b[38;5;28;43mself\u001b[39;49m\u001b[38;5;241;43m.\u001b[39;49m\u001b[43m_plot_data_points\u001b[49m\u001b[43m(\u001b[49m\u001b[43mmin_time\u001b[49m\u001b[43m,\u001b[49m\u001b[43m \u001b[49m\u001b[43mmax_time\u001b[49m\u001b[43m)\u001b[49m\n\u001b[1;32m     86\u001b[0m \u001b[38;5;28mself\u001b[39m\u001b[38;5;241m.\u001b[39m_time_slider\u001b[38;5;241m.\u001b[39mvaltext\u001b[38;5;241m.\u001b[39mset_text(min_time\u001b[38;5;241m.\u001b[39mstrftime(\u001b[38;5;124m\"\u001b[39m\u001b[38;5;124m%\u001b[39m\u001b[38;5;124mm/\u001b[39m\u001b[38;5;132;01m%d\u001b[39;00m\u001b[38;5;124m/\u001b[39m\u001b[38;5;124m%\u001b[39m\u001b[38;5;124mY, \u001b[39m\u001b[38;5;124m%\u001b[39m\u001b[38;5;124mH:\u001b[39m\u001b[38;5;124m%\u001b[39m\u001b[38;5;124mM:\u001b[39m\u001b[38;5;124m%\u001b[39m\u001b[38;5;124mS\u001b[39m\u001b[38;5;124m\"\u001b[39m))\n\u001b[1;32m     87\u001b[0m \u001b[38;5;28mself\u001b[39m\u001b[38;5;241m.\u001b[39m_fig\u001b[38;5;241m.\u001b[39mcanvas\u001b[38;5;241m.\u001b[39mdraw_idle()\n",
      "File \u001b[0;32m~/CVUT/cvut-2022-2023/diplomova-prace/backtesting/src/widgets.py:78\u001b[0m, in \u001b[0;36mCandlestickWidget._plot_data_points\u001b[0;34m(self, min_time, max_time)\u001b[0m\n\u001b[1;32m     69\u001b[0m \u001b[38;5;28mself\u001b[39m\u001b[38;5;241m.\u001b[39m_ax\u001b[38;5;241m.\u001b[39mclear()\n\u001b[1;32m     70\u001b[0m addons \u001b[38;5;241m=\u001b[39m [\n\u001b[1;32m     71\u001b[0m     mpf\u001b[38;5;241m.\u001b[39mmake_addplot(\u001b[38;5;28mself\u001b[39m\u001b[38;5;241m.\u001b[39m_indic_points\u001b[38;5;241m.\u001b[39mloc[min_time:max_time], ax\u001b[38;5;241m=\u001b[39m\u001b[38;5;28mself\u001b[39m\u001b[38;5;241m.\u001b[39m_ax),\n\u001b[1;32m     72\u001b[0m     mpf\u001b[38;5;241m.\u001b[39mmake_addplot(\u001b[38;5;28mself\u001b[39m\u001b[38;5;241m.\u001b[39m_mean_price_points\u001b[38;5;241m.\u001b[39mloc[min_time:max_time], ax\u001b[38;5;241m=\u001b[39m\u001b[38;5;28mself\u001b[39m\u001b[38;5;241m.\u001b[39m_ax),\n\u001b[0;32m   (...)\u001b[0m\n\u001b[1;32m     76\u001b[0m                      \u001b[38;5;28mtype\u001b[39m\u001b[38;5;241m=\u001b[39m\u001b[38;5;124m'\u001b[39m\u001b[38;5;124mscatter\u001b[39m\u001b[38;5;124m'\u001b[39m, markersize\u001b[38;5;241m=\u001b[39m\u001b[38;5;241m200\u001b[39m, marker\u001b[38;5;241m=\u001b[39m\u001b[38;5;124m'\u001b[39m\u001b[38;5;124mv\u001b[39m\u001b[38;5;124m'\u001b[39m),\n\u001b[1;32m     77\u001b[0m ]\n\u001b[0;32m---> 78\u001b[0m \u001b[43mmpf\u001b[49m\u001b[38;5;241;43m.\u001b[39;49m\u001b[43mplot\u001b[49m\u001b[43m(\u001b[49m\u001b[38;5;28;43mself\u001b[39;49m\u001b[38;5;241;43m.\u001b[39;49m\u001b[43m_candlestick_points\u001b[49m\u001b[38;5;241;43m.\u001b[39;49m\u001b[43mloc\u001b[49m\u001b[43m[\u001b[49m\u001b[43mmin_time\u001b[49m\u001b[43m:\u001b[49m\u001b[43mmax_time\u001b[49m\u001b[43m]\u001b[49m\u001b[43m,\u001b[49m\u001b[43m \u001b[49m\u001b[43max\u001b[49m\u001b[38;5;241;43m=\u001b[39;49m\u001b[38;5;28;43mself\u001b[39;49m\u001b[38;5;241;43m.\u001b[39;49m\u001b[43m_ax\u001b[49m\u001b[43m,\u001b[49m\n\u001b[1;32m     79\u001b[0m \u001b[43m         \u001b[49m\u001b[43maddplot\u001b[49m\u001b[38;5;241;43m=\u001b[39;49m\u001b[43maddons\u001b[49m\u001b[43m,\u001b[49m\u001b[43m \u001b[49m\u001b[38;5;28;43mtype\u001b[39;49m\u001b[38;5;241;43m=\u001b[39;49m\u001b[38;5;124;43m'\u001b[39;49m\u001b[38;5;124;43mcandle\u001b[39;49m\u001b[38;5;124;43m'\u001b[39;49m\u001b[43m,\u001b[49m\u001b[43m \u001b[49m\u001b[43mstyle\u001b[49m\u001b[38;5;241;43m=\u001b[39;49m\u001b[38;5;124;43m'\u001b[39;49m\u001b[38;5;124;43mbinance\u001b[39;49m\u001b[38;5;124;43m'\u001b[39;49m\u001b[43m)\u001b[49m\n\u001b[1;32m     80\u001b[0m \u001b[38;5;28mself\u001b[39m\u001b[38;5;241m.\u001b[39m_ax\u001b[38;5;241m.\u001b[39mlegend(\u001b[38;5;28mself\u001b[39m\u001b[38;5;241m.\u001b[39m_labels, loc\u001b[38;5;241m=\u001b[39m\u001b[38;5;124m'\u001b[39m\u001b[38;5;124mcenter left\u001b[39m\u001b[38;5;124m'\u001b[39m, bbox_to_anchor\u001b[38;5;241m=\u001b[39m(\u001b[38;5;241m1\u001b[39m, \u001b[38;5;241m0.5\u001b[39m))\n",
      "File \u001b[0;32m/Library/Frameworks/Python.framework/Versions/3.10/lib/python3.10/site-packages/mplfinance/plotting.py:720\u001b[0m, in \u001b[0;36mplot\u001b[0;34m(data, **kwargs)\u001b[0m\n\u001b[1;32m    718\u001b[0m             \u001b[38;5;28;01mfor\u001b[39;00m column \u001b[38;5;129;01min\u001b[39;00m apdata:\n\u001b[1;32m    719\u001b[0m                 ydata \u001b[38;5;241m=\u001b[39m apdata\u001b[38;5;241m.\u001b[39mloc[:,column] \u001b[38;5;28;01mif\u001b[39;00m havedf \u001b[38;5;28;01melse\u001b[39;00m column\n\u001b[0;32m--> 720\u001b[0m                 ax \u001b[38;5;241m=\u001b[39m \u001b[43m_addplot_columns\u001b[49m\u001b[43m(\u001b[49m\u001b[43mpanid\u001b[49m\u001b[43m,\u001b[49m\u001b[43mpanels\u001b[49m\u001b[43m,\u001b[49m\u001b[43mydata\u001b[49m\u001b[43m,\u001b[49m\u001b[43mapdict\u001b[49m\u001b[43m,\u001b[49m\u001b[43mxdates\u001b[49m\u001b[43m,\u001b[49m\u001b[43mconfig\u001b[49m\u001b[43m)\u001b[49m\n\u001b[1;32m    721\u001b[0m                 _addplot_apply_supplements(ax,apdict,xdates)\n\u001b[1;32m    723\u001b[0m \u001b[38;5;66;03m# fill_between is NOT supported for external_axes_mode\u001b[39;00m\n\u001b[1;32m    724\u001b[0m \u001b[38;5;66;03m# (caller can easily call ax.fill_between() themselves).\u001b[39;00m\n",
      "File \u001b[0;32m/Library/Frameworks/Python.framework/Versions/3.10/lib/python3.10/site-packages/mplfinance/plotting.py:1042\u001b[0m, in \u001b[0;36m_addplot_columns\u001b[0;34m(panid, panels, ydata, apdict, xdates, config)\u001b[0m\n\u001b[1;32m   1040\u001b[0m         _mscatter(xdates, ydata, ax\u001b[38;5;241m=\u001b[39max, m\u001b[38;5;241m=\u001b[39mmark, s\u001b[38;5;241m=\u001b[39msize, color\u001b[38;5;241m=\u001b[39mcolor, alpha\u001b[38;5;241m=\u001b[39malpha, edgecolors\u001b[38;5;241m=\u001b[39medgecolors, linewidths\u001b[38;5;241m=\u001b[39mlinewidths)\n\u001b[1;32m   1041\u001b[0m     \u001b[38;5;28;01melse\u001b[39;00m:\n\u001b[0;32m-> 1042\u001b[0m         \u001b[43max\u001b[49m\u001b[38;5;241;43m.\u001b[39;49m\u001b[43mscatter\u001b[49m\u001b[43m(\u001b[49m\u001b[43mxdates\u001b[49m\u001b[43m,\u001b[49m\u001b[43m \u001b[49m\u001b[43mydata\u001b[49m\u001b[43m,\u001b[49m\u001b[43m \u001b[49m\u001b[43ms\u001b[49m\u001b[38;5;241;43m=\u001b[39;49m\u001b[43msize\u001b[49m\u001b[43m,\u001b[49m\u001b[43m \u001b[49m\u001b[43mmarker\u001b[49m\u001b[38;5;241;43m=\u001b[39;49m\u001b[43mmark\u001b[49m\u001b[43m,\u001b[49m\u001b[43m \u001b[49m\u001b[43mcolor\u001b[49m\u001b[38;5;241;43m=\u001b[39;49m\u001b[43mcolor\u001b[49m\u001b[43m,\u001b[49m\u001b[43m \u001b[49m\u001b[43malpha\u001b[49m\u001b[38;5;241;43m=\u001b[39;49m\u001b[43malpha\u001b[49m\u001b[43m,\u001b[49m\u001b[43m \u001b[49m\u001b[43medgecolors\u001b[49m\u001b[38;5;241;43m=\u001b[39;49m\u001b[43medgecolors\u001b[49m\u001b[43m,\u001b[49m\u001b[43m \u001b[49m\u001b[43mlinewidths\u001b[49m\u001b[38;5;241;43m=\u001b[39;49m\u001b[43mlinewidths\u001b[49m\u001b[43m)\u001b[49m\n\u001b[1;32m   1043\u001b[0m \u001b[38;5;28;01melif\u001b[39;00m aptype \u001b[38;5;241m==\u001b[39m \u001b[38;5;124m'\u001b[39m\u001b[38;5;124mbar\u001b[39m\u001b[38;5;124m'\u001b[39m:\n\u001b[1;32m   1044\u001b[0m     width  \u001b[38;5;241m=\u001b[39m \u001b[38;5;241m0.8\u001b[39m \u001b[38;5;28;01mif\u001b[39;00m apdict[\u001b[38;5;124m'\u001b[39m\u001b[38;5;124mwidth\u001b[39m\u001b[38;5;124m'\u001b[39m] \u001b[38;5;129;01mis\u001b[39;00m \u001b[38;5;28;01mNone\u001b[39;00m \u001b[38;5;28;01melse\u001b[39;00m apdict[\u001b[38;5;124m'\u001b[39m\u001b[38;5;124mwidth\u001b[39m\u001b[38;5;124m'\u001b[39m]\n",
      "File \u001b[0;32m/Library/Frameworks/Python.framework/Versions/3.10/lib/python3.10/site-packages/matplotlib/__init__.py:1414\u001b[0m, in \u001b[0;36m_preprocess_data.<locals>.inner\u001b[0;34m(ax, data, *args, **kwargs)\u001b[0m\n\u001b[1;32m   1411\u001b[0m \u001b[38;5;129m@functools\u001b[39m\u001b[38;5;241m.\u001b[39mwraps(func)\n\u001b[1;32m   1412\u001b[0m \u001b[38;5;28;01mdef\u001b[39;00m \u001b[38;5;21minner\u001b[39m(ax, \u001b[38;5;241m*\u001b[39margs, data\u001b[38;5;241m=\u001b[39m\u001b[38;5;28;01mNone\u001b[39;00m, \u001b[38;5;241m*\u001b[39m\u001b[38;5;241m*\u001b[39mkwargs):\n\u001b[1;32m   1413\u001b[0m     \u001b[38;5;28;01mif\u001b[39;00m data \u001b[38;5;129;01mis\u001b[39;00m \u001b[38;5;28;01mNone\u001b[39;00m:\n\u001b[0;32m-> 1414\u001b[0m         \u001b[38;5;28;01mreturn\u001b[39;00m \u001b[43mfunc\u001b[49m\u001b[43m(\u001b[49m\u001b[43max\u001b[49m\u001b[43m,\u001b[49m\u001b[43m \u001b[49m\u001b[38;5;241;43m*\u001b[39;49m\u001b[38;5;28;43mmap\u001b[39;49m\u001b[43m(\u001b[49m\u001b[43msanitize_sequence\u001b[49m\u001b[43m,\u001b[49m\u001b[43m \u001b[49m\u001b[43margs\u001b[49m\u001b[43m)\u001b[49m\u001b[43m,\u001b[49m\u001b[43m \u001b[49m\u001b[38;5;241;43m*\u001b[39;49m\u001b[38;5;241;43m*\u001b[39;49m\u001b[43mkwargs\u001b[49m\u001b[43m)\u001b[49m\n\u001b[1;32m   1416\u001b[0m     bound \u001b[38;5;241m=\u001b[39m new_sig\u001b[38;5;241m.\u001b[39mbind(ax, \u001b[38;5;241m*\u001b[39margs, \u001b[38;5;241m*\u001b[39m\u001b[38;5;241m*\u001b[39mkwargs)\n\u001b[1;32m   1417\u001b[0m     auto_label \u001b[38;5;241m=\u001b[39m (bound\u001b[38;5;241m.\u001b[39marguments\u001b[38;5;241m.\u001b[39mget(label_namer)\n\u001b[1;32m   1418\u001b[0m                   \u001b[38;5;129;01mor\u001b[39;00m bound\u001b[38;5;241m.\u001b[39mkwargs\u001b[38;5;241m.\u001b[39mget(label_namer))\n",
      "File \u001b[0;32m/Library/Frameworks/Python.framework/Versions/3.10/lib/python3.10/site-packages/matplotlib/axes/_axes.py:4368\u001b[0m, in \u001b[0;36mAxes.scatter\u001b[0;34m(self, x, y, s, c, marker, cmap, norm, vmin, vmax, alpha, linewidths, edgecolors, plotnonfinite, **kwargs)\u001b[0m\n\u001b[1;32m   4366\u001b[0m y \u001b[38;5;241m=\u001b[39m np\u001b[38;5;241m.\u001b[39mma\u001b[38;5;241m.\u001b[39mravel(y)\n\u001b[1;32m   4367\u001b[0m \u001b[38;5;28;01mif\u001b[39;00m x\u001b[38;5;241m.\u001b[39msize \u001b[38;5;241m!=\u001b[39m y\u001b[38;5;241m.\u001b[39msize:\n\u001b[0;32m-> 4368\u001b[0m     \u001b[38;5;28;01mraise\u001b[39;00m \u001b[38;5;167;01mValueError\u001b[39;00m(\u001b[38;5;124m\"\u001b[39m\u001b[38;5;124mx and y must be the same size\u001b[39m\u001b[38;5;124m\"\u001b[39m)\n\u001b[1;32m   4370\u001b[0m \u001b[38;5;28;01mif\u001b[39;00m s \u001b[38;5;129;01mis\u001b[39;00m \u001b[38;5;28;01mNone\u001b[39;00m:\n\u001b[1;32m   4371\u001b[0m     s \u001b[38;5;241m=\u001b[39m (\u001b[38;5;241m20\u001b[39m \u001b[38;5;28;01mif\u001b[39;00m rcParams[\u001b[38;5;124m'\u001b[39m\u001b[38;5;124m_internal.classic_mode\u001b[39m\u001b[38;5;124m'\u001b[39m] \u001b[38;5;28;01melse\u001b[39;00m\n\u001b[1;32m   4372\u001b[0m          rcParams[\u001b[38;5;124m'\u001b[39m\u001b[38;5;124mlines.markersize\u001b[39m\u001b[38;5;124m'\u001b[39m] \u001b[38;5;241m*\u001b[39m\u001b[38;5;241m*\u001b[39m \u001b[38;5;241m2.0\u001b[39m)\n",
      "\u001b[0;31mValueError\u001b[0m: x and y must be the same size"
     ]
    }
   ],
   "source": [
    "candles = CandlestickWidget(candlestick_points, indic_points, mean_price_points, open_points, closed_points, title)"
   ]
  },
  {
   "cell_type": "code",
   "execution_count": null,
   "id": "c2d090fc",
   "metadata": {},
   "outputs": [],
   "source": [
    "candles.show()"
   ]
  },
  {
   "cell_type": "code",
   "execution_count": null,
   "id": "828a979f",
   "metadata": {},
   "outputs": [],
   "source": []
  }
 ],
 "metadata": {
  "kernelspec": {
   "display_name": "Python 3 (ipykernel)",
   "language": "python",
   "name": "python3"
  },
  "language_info": {
   "codemirror_mode": {
    "name": "ipython",
    "version": 3
   },
   "file_extension": ".py",
   "mimetype": "text/x-python",
   "name": "python",
   "nbconvert_exporter": "python",
   "pygments_lexer": "ipython3",
   "version": "3.10.6"
  }
 },
 "nbformat": 4,
 "nbformat_minor": 5
}
