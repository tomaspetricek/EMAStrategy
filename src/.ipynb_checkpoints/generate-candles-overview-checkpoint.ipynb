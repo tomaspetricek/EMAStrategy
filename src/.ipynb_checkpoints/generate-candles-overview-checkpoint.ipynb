{
 "cells": [
  {
   "cell_type": "code",
   "execution_count": 1,
   "id": "e66a206b",
   "metadata": {},
   "outputs": [],
   "source": [
    "import pandas as pd\n",
    "import os\n",
    "from datetime import datetime, timedelta"
   ]
  },
  {
   "cell_type": "code",
   "execution_count": 2,
   "id": "185af2d2",
   "metadata": {},
   "outputs": [],
   "source": [
    "in_dir = \"./data/in\""
   ]
  },
  {
   "cell_type": "code",
   "execution_count": 3,
   "id": "bbd9c170",
   "metadata": {},
   "outputs": [
    {
     "data": {
      "text/plain": [
       "['DOGEUSDT.csv',\n",
       " '.DS_Store',\n",
       " 'DASHUSDT.csv',\n",
       " 'ZRXUSDT.csv',\n",
       " 'SOLUSDT.csv',\n",
       " 'LTCUSDT.csv',\n",
       " 'ETHUSDT.csv',\n",
       " 'BTCUSDT.csv',\n",
       " 'ADAUSDT.csv',\n",
       " 'XRPUSDT.csv',\n",
       " 'XLMUSDT.csv']"
      ]
     },
     "execution_count": 3,
     "metadata": {},
     "output_type": "execute_result"
    }
   ],
   "source": [
    "os.listdir(in_dir)"
   ]
  },
  {
   "cell_type": "code",
   "execution_count": 4,
   "id": "83ad0b35",
   "metadata": {},
   "outputs": [],
   "source": [
    "candle_paths = []\n",
    "\n",
    "for filename in os.listdir(in_dir):\n",
    "    extension = os.path.splitext(filename)[1]\n",
    "    \n",
    "    if extension == \".csv\":\n",
    "        candle_paths.append(os.path.join(in_dir, filename))"
   ]
  },
  {
   "cell_type": "code",
   "execution_count": 5,
   "id": "fe52b988",
   "metadata": {},
   "outputs": [],
   "source": [
    "asset_col_name = \"Měna\"\n",
    "candle_count_col_name = \"Počet svíček\"\n",
    "from_col_name = \"Od\"\n",
    "to_col_name = \"Do\"\n",
    "duration_col_name = \"Roky\"\n",
    "candle_overview = pd.DataFrame(columns = [asset_col_name, candle_count_col_name, from_col_name,\n",
    "                                          to_col_name, duration_col_name])"
   ]
  },
  {
   "cell_type": "code",
   "execution_count": 6,
   "id": "e0fd14ce",
   "metadata": {},
   "outputs": [],
   "source": [
    "def read_candles(path):\n",
    "    column_names = [\"time\", \"open\", \"high\", \"low\", \"close\", \"volume\"]\n",
    "    candles = pd.read_csv(path, sep = '|', names=column_names, usecols=range(6), header=None)\n",
    "    candles.set_index(\"time\", inplace=True)\n",
    "    candles.index = pd.to_datetime(candles.index,unit='s')\n",
    "    return candles"
   ]
  },
  {
   "cell_type": "code",
   "execution_count": 7,
   "id": "a2bd7e95",
   "metadata": {},
   "outputs": [],
   "source": [
    "def itos(num):\n",
    "    out = '{:,}'.format(num)\n",
    "    return out.replace(\",\", \" \")"
   ]
  },
  {
   "cell_type": "code",
   "execution_count": 11,
   "id": "69b7a246",
   "metadata": {},
   "outputs": [],
   "source": [
    "def ftos(num):\n",
    "    out = \"{:,.1f}\".format(num).replace(',', ' ')\n",
    "    return out.replace(\".\", \",\")"
   ]
  },
  {
   "cell_type": "code",
   "execution_count": 12,
   "id": "6136b223",
   "metadata": {},
   "outputs": [],
   "source": [
    "def datetime_to_string(time):\n",
    "    return time.strftime('%d. %m. %Y')"
   ]
  },
  {
   "cell_type": "code",
   "execution_count": 9,
   "id": "f2bb7c9a",
   "metadata": {},
   "outputs": [
    {
     "ename": "TypeError",
     "evalue": "unsupported operand type(s) for -: 'str' and 'str'",
     "output_type": "error",
     "traceback": [
      "\u001b[0;31m---------------------------------------------------------------------------\u001b[0m",
      "\u001b[0;31mTypeError\u001b[0m                                 Traceback (most recent call last)",
      "Input \u001b[0;32mIn [9]\u001b[0m, in \u001b[0;36m<cell line: 3>\u001b[0;34m()\u001b[0m\n\u001b[1;32m      6\u001b[0m candle_from \u001b[38;5;241m=\u001b[39m candles\u001b[38;5;241m.\u001b[39mindex[\u001b[38;5;241m0\u001b[39m]\u001b[38;5;241m.\u001b[39mstrftime(\u001b[38;5;124m'\u001b[39m\u001b[38;5;132;01m%d\u001b[39;00m\u001b[38;5;124m. \u001b[39m\u001b[38;5;124m%\u001b[39m\u001b[38;5;124mm. \u001b[39m\u001b[38;5;124m%\u001b[39m\u001b[38;5;124mY\u001b[39m\u001b[38;5;124m'\u001b[39m)\n\u001b[1;32m      7\u001b[0m candle_to \u001b[38;5;241m=\u001b[39m candles\u001b[38;5;241m.\u001b[39mindex[\u001b[38;5;241m-\u001b[39m\u001b[38;5;241m1\u001b[39m]\u001b[38;5;241m.\u001b[39mstrftime(\u001b[38;5;124m'\u001b[39m\u001b[38;5;132;01m%d\u001b[39;00m\u001b[38;5;124m. \u001b[39m\u001b[38;5;124m%\u001b[39m\u001b[38;5;124mm. \u001b[39m\u001b[38;5;124m%\u001b[39m\u001b[38;5;124mY\u001b[39m\u001b[38;5;124m'\u001b[39m)\n\u001b[0;32m----> 8\u001b[0m duration \u001b[38;5;241m=\u001b[39m (\u001b[43mcandle_to\u001b[49m\u001b[38;5;241;43m-\u001b[39;49m\u001b[43mcandle_from\u001b[49m)\u001b[38;5;241m.\u001b[39mtotal_seconds()\u001b[38;5;241m/\u001b[39mtimedelta(days\u001b[38;5;241m=\u001b[39m\u001b[38;5;241m365\u001b[39m)\u001b[38;5;241m.\u001b[39mtotal_seconds()\n\u001b[1;32m     10\u001b[0m filename \u001b[38;5;241m=\u001b[39m os\u001b[38;5;241m.\u001b[39mpath\u001b[38;5;241m.\u001b[39mbasename(candle_path)\n\u001b[1;32m     11\u001b[0m name \u001b[38;5;241m=\u001b[39m os\u001b[38;5;241m.\u001b[39mpath\u001b[38;5;241m.\u001b[39msplitext(filename)[\u001b[38;5;241m0\u001b[39m]\n",
      "\u001b[0;31mTypeError\u001b[0m: unsupported operand type(s) for -: 'str' and 'str'"
     ]
    }
   ],
   "source": [
    "quote_name = \"USDT\"\n",
    "\n",
    "for candle_path in candle_paths:\n",
    "    candles = read_candles(candle_path)\n",
    "    candle_count = itos(len(candles))\n",
    "    candle_from = candles.index[0]\n",
    "    candle_to = candles.index[-1]\n",
    "    duration = (candle_to-candle_from).total_seconds()/timedelta(days=365).total_seconds()\n",
    "    \n",
    "    filename = os.path.basename(candle_path)\n",
    "    name = os.path.splitext(filename)[0]\n",
    "    asset = name.replace(quote_name, \"\")\n",
    "    \n",
    "    candle_overview.loc[len(candle_overview)] = {\n",
    "        asset_col_name : asset,\n",
    "        candle_count_col_name : ftos(candle_count),\n",
    "        from_col_name : datetime_to_string(candle_from),\n",
    "        to_col_name : datetime_to_string(candle_to),\n",
    "        \n",
    "    }"
   ]
  },
  {
   "cell_type": "code",
   "execution_count": 10,
   "id": "222c5936",
   "metadata": {},
   "outputs": [
    {
     "data": {
      "text/html": [
       "<div>\n",
       "<style scoped>\n",
       "    .dataframe tbody tr th:only-of-type {\n",
       "        vertical-align: middle;\n",
       "    }\n",
       "\n",
       "    .dataframe tbody tr th {\n",
       "        vertical-align: top;\n",
       "    }\n",
       "\n",
       "    .dataframe thead th {\n",
       "        text-align: right;\n",
       "    }\n",
       "</style>\n",
       "<table border=\"1\" class=\"dataframe\">\n",
       "  <thead>\n",
       "    <tr style=\"text-align: right;\">\n",
       "      <th></th>\n",
       "      <th>Měna</th>\n",
       "      <th>Počet svíček</th>\n",
       "      <th>Od</th>\n",
       "      <th>Do</th>\n",
       "      <th>Roky</th>\n",
       "    </tr>\n",
       "  </thead>\n",
       "  <tbody>\n",
       "  </tbody>\n",
       "</table>\n",
       "</div>"
      ],
      "text/plain": [
       "Empty DataFrame\n",
       "Columns: [Měna, Počet svíček, Od, Do, Roky]\n",
       "Index: []"
      ]
     },
     "execution_count": 10,
     "metadata": {},
     "output_type": "execute_result"
    }
   ],
   "source": [
    "candle_overview"
   ]
  },
  {
   "cell_type": "code",
   "execution_count": null,
   "id": "074ddb86",
   "metadata": {},
   "outputs": [],
   "source": [
    "report_dir = \"./data/report\"\n",
    "candle_overview.to_csv(os.path.join(report_dir, \"candles-overview.csv\"), index=False)"
   ]
  },
  {
   "cell_type": "code",
   "execution_count": null,
   "id": "fedfd055",
   "metadata": {},
   "outputs": [],
   "source": []
  }
 ],
 "metadata": {
  "kernelspec": {
   "display_name": "Python 3 (ipykernel)",
   "language": "python",
   "name": "python3"
  },
  "language_info": {
   "codemirror_mode": {
    "name": "ipython",
    "version": 3
   },
   "file_extension": ".py",
   "mimetype": "text/x-python",
   "name": "python",
   "nbconvert_exporter": "python",
   "pygments_lexer": "ipython3",
   "version": "3.10.6"
  }
 },
 "nbformat": 4,
 "nbformat_minor": 5
}
