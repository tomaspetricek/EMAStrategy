{
 "cells": [
  {
   "cell_type": "code",
   "execution_count": 1,
   "id": "d36c1a17",
   "metadata": {},
   "outputs": [],
   "source": [
    "# import libraries\n",
    "import numpy as np\n",
    "np.set_printoptions(precision = 4, suppress = True)\n",
    "import pandas as pd\n",
    "import os\n",
    "from datetime import datetime\n",
    "import matplotlib.pyplot as plt\n",
    "\n",
    "# ignore warnings\n",
    "import warnings\n",
    "warnings.filterwarnings('ignore')\n",
    "\n",
    "# import modules\n",
    "from widgets import CandlestickWidget\n",
    "#%matplotlib qt"
   ]
  },
  {
   "cell_type": "code",
   "execution_count": 2,
   "id": "6fc73bed",
   "metadata": {},
   "outputs": [],
   "source": [
    "out_dir = \"./data/out\"\n",
    "series_dir = os.path.join(out_dir, \"best-series_\")"
   ]
  },
  {
   "cell_type": "code",
   "execution_count": 3,
   "id": "468af89a",
   "metadata": {},
   "outputs": [
    {
     "data": {
      "text/plain": [
       "'./data/out/best-series_'"
      ]
     },
     "execution_count": 3,
     "metadata": {},
     "output_type": "execute_result"
    }
   ],
   "source": [
    "series_dir"
   ]
  },
  {
   "cell_type": "code",
   "execution_count": 4,
   "id": "7c67f5ce",
   "metadata": {},
   "outputs": [],
   "source": [
    "def get_series(csv_path, col_names, sep=',', time_col=\"time\"):\n",
    "    series_ = pd.read_csv(csv_path, sep, header=None, names=col_names)\n",
    "    series_[time_col] = series_[time_col].apply(lambda x: datetime.utcfromtimestamp(x))\n",
    "    series_.set_index(time_col, inplace=True)\n",
    "    return series_"
   ]
  },
  {
   "cell_type": "code",
   "execution_count": 5,
   "id": "5d0d7d15",
   "metadata": {},
   "outputs": [],
   "source": [
    "# get series_\n",
    "close_balance_series = get_series(os.path.join(series_dir, \"close-balance-series_.csv\"), [\"time\", \"value\"])\n",
    "equity_series = get_series(os.path.join(series_dir, \"equity-series_.csv\"), [\"time\", \"value\"])\n",
    "open_order_series = get_series(os.path.join(series_dir, \"open-order-series_.csv\"), [\"time\", \"price\"])\n",
    "close_order_series = get_series(os.path.join(series_dir, \"close-order-series_.csv\"), [\"time\", \"price\"])"
   ]
  },
  {
   "cell_type": "code",
   "execution_count": 6,
   "id": "8d0421b1",
   "metadata": {},
   "outputs": [],
   "source": [
    "# get last position first open order time\n",
    "bef_last_close_order = close_order_series.iloc[-2].name\n",
    "open_order_series = open_order_series.loc[open_order_series.index >= bef_last_close_order]\n",
    "last_pos_first_open_order = open_order_series.iloc[0].name"
   ]
  },
  {
   "cell_type": "code",
   "execution_count": 7,
   "id": "d123d451",
   "metadata": {},
   "outputs": [],
   "source": [
    "close_balance_series = close_balance_series.iloc[-2:]\n",
    "equity_series = equity_series.loc[equity_series.index >= last_pos_first_open_order]\n",
    "close_balance_series.rename(index={close_balance_series.iloc[0].name:last_pos_first_open_order}, inplace=True)"
   ]
  },
  {
   "cell_type": "code",
   "execution_count": 8,
   "id": "27dccfe4",
   "metadata": {},
   "outputs": [
    {
     "data": {
      "text/html": [
       "<div>\n",
       "<style scoped>\n",
       "    .dataframe tbody tr th:only-of-type {\n",
       "        vertical-align: middle;\n",
       "    }\n",
       "\n",
       "    .dataframe tbody tr th {\n",
       "        vertical-align: top;\n",
       "    }\n",
       "\n",
       "    .dataframe thead th {\n",
       "        text-align: right;\n",
       "    }\n",
       "</style>\n",
       "<table border=\"1\" class=\"dataframe\">\n",
       "  <thead>\n",
       "    <tr style=\"text-align: right;\">\n",
       "      <th></th>\n",
       "      <th>value</th>\n",
       "    </tr>\n",
       "    <tr>\n",
       "      <th>time</th>\n",
       "      <th></th>\n",
       "    </tr>\n",
       "  </thead>\n",
       "  <tbody>\n",
       "    <tr>\n",
       "      <th>2021-12-04 05:27:00</th>\n",
       "      <td>38899.195312</td>\n",
       "    </tr>\n",
       "    <tr>\n",
       "      <th>2021-12-04 14:49:00</th>\n",
       "      <td>42323.984375</td>\n",
       "    </tr>\n",
       "  </tbody>\n",
       "</table>\n",
       "</div>"
      ],
      "text/plain": [
       "                            value\n",
       "time                             \n",
       "2021-12-04 05:27:00  38899.195312\n",
       "2021-12-04 14:49:00  42323.984375"
      ]
     },
     "execution_count": 8,
     "metadata": {},
     "output_type": "execute_result"
    }
   ],
   "source": [
    "close_balance_series.iloc[-2:]"
   ]
  },
  {
   "cell_type": "code",
   "execution_count": 9,
   "id": "60604a5d",
   "metadata": {},
   "outputs": [
    {
     "data": {
      "text/html": [
       "<div>\n",
       "<style scoped>\n",
       "    .dataframe tbody tr th:only-of-type {\n",
       "        vertical-align: middle;\n",
       "    }\n",
       "\n",
       "    .dataframe tbody tr th {\n",
       "        vertical-align: top;\n",
       "    }\n",
       "\n",
       "    .dataframe thead th {\n",
       "        text-align: right;\n",
       "    }\n",
       "</style>\n",
       "<table border=\"1\" class=\"dataframe\">\n",
       "  <thead>\n",
       "    <tr style=\"text-align: right;\">\n",
       "      <th></th>\n",
       "      <th>value</th>\n",
       "    </tr>\n",
       "    <tr>\n",
       "      <th>time</th>\n",
       "      <th></th>\n",
       "    </tr>\n",
       "  </thead>\n",
       "  <tbody>\n",
       "    <tr>\n",
       "      <th>2021-12-04 05:27:00</th>\n",
       "      <td>38850.59375</td>\n",
       "    </tr>\n",
       "  </tbody>\n",
       "</table>\n",
       "</div>"
      ],
      "text/plain": [
       "                           value\n",
       "time                            \n",
       "2021-12-04 05:27:00  38850.59375"
      ]
     },
     "execution_count": 9,
     "metadata": {},
     "output_type": "execute_result"
    }
   ],
   "source": [
    "equity_series.head(1)"
   ]
  },
  {
   "cell_type": "code",
   "execution_count": 10,
   "id": "204c8078",
   "metadata": {},
   "outputs": [
    {
     "data": {
      "text/html": [
       "<div>\n",
       "<style scoped>\n",
       "    .dataframe tbody tr th:only-of-type {\n",
       "        vertical-align: middle;\n",
       "    }\n",
       "\n",
       "    .dataframe tbody tr th {\n",
       "        vertical-align: top;\n",
       "    }\n",
       "\n",
       "    .dataframe thead th {\n",
       "        text-align: right;\n",
       "    }\n",
       "</style>\n",
       "<table border=\"1\" class=\"dataframe\">\n",
       "  <thead>\n",
       "    <tr style=\"text-align: right;\">\n",
       "      <th></th>\n",
       "      <th>value</th>\n",
       "    </tr>\n",
       "    <tr>\n",
       "      <th>time</th>\n",
       "      <th></th>\n",
       "    </tr>\n",
       "  </thead>\n",
       "  <tbody>\n",
       "    <tr>\n",
       "      <th>2021-12-04 14:49:00</th>\n",
       "      <td>42323.984375</td>\n",
       "    </tr>\n",
       "  </tbody>\n",
       "</table>\n",
       "</div>"
      ],
      "text/plain": [
       "                            value\n",
       "time                             \n",
       "2021-12-04 14:49:00  42323.984375"
      ]
     },
     "execution_count": 10,
     "metadata": {},
     "output_type": "execute_result"
    }
   ],
   "source": [
    "equity_series.tail(1)"
   ]
  },
  {
   "cell_type": "code",
   "execution_count": 11,
   "id": "de8c3d48",
   "metadata": {},
   "outputs": [
    {
     "data": {
      "image/png": "[encoded data removed]",
      "text/plain": [
       "<Figure size 1200x800 with 1 Axes>"
      ]
     },
     "metadata": {},
     "output_type": "display_data"
    }
   ],
   "source": [
    "# plot last position\n",
    "fig, ax = plt.subplots(figsize=(12, 8))\n",
    "ax.step(close_balance_series.index, close_balance_series[\"value\"], where='post', label=\"close balance\")\n",
    "ax.step(equity_series.index, equity_series[\"value\"], where=\"post\", label=\"equity\")\n",
    "ax.legend();"
   ]
  },
  {
   "cell_type": "code",
   "execution_count": null,
   "id": "6ac18864",
   "metadata": {},
   "outputs": [],
   "source": []
  }
 ],
 "metadata": {
  "kernelspec": {
   "display_name": "Python 3 (ipykernel)",
   "language": "python",
   "name": "python3"
  },
  "language_info": {
   "codemirror_mode": {
    "name": "ipython",
    "version": 3
   },
   "file_extension": ".py",
   "mimetype": "text/x-python",
   "name": "python",
   "nbconvert_exporter": "python",
   "pygments_lexer": "ipython3",
   "version": "3.10.6"
  }
 },
 "nbformat": 4,
 "nbformat_minor": 5
}
