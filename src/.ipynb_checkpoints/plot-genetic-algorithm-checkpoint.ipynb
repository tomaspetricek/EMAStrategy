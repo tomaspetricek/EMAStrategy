{
 "cells": [
  {
   "cell_type": "code",
   "execution_count": null,
   "id": "5407d90c",
   "metadata": {},
   "outputs": [],
   "source": [
    "# import libraries\n",
    "import numpy as np\n",
    "np.set_printoptions(precision = 4, suppress = True)\n",
    "import pandas as pd\n",
    "import os\n",
    "from datetime import datetime\n",
    "import matplotlib.pyplot as plt\n",
    "import matplotlib as mpl\n",
    "from scipy.stats import gaussian_kde\n",
    "\n",
    "# ignore warnings\n",
    "import warnings\n",
    "warnings.filterwarnings('ignore')"
   ]
  },
  {
   "cell_type": "code",
   "execution_count": null,
   "id": "5eb7f58b",
   "metadata": {},
   "outputs": [],
   "source": [
    "out_dir = \"./data/out\"\n",
    "optim_dir = os.path.join(out_dir,\"genetic-algorithm\")\n",
    "res_dir = os.path.join(optim_dir, \"14\")"
   ]
  },
  {
   "cell_type": "code",
   "execution_count": null,
   "id": "8c501b24",
   "metadata": {},
   "outputs": [],
   "source": [
    "progress = pd.read_csv(os.path.join(res_dir, \"progress.csv\"))\n",
    "progress.head()"
   ]
  },
  {
   "cell_type": "code",
   "execution_count": null,
   "id": "7b6ac783",
   "metadata": {},
   "outputs": [],
   "source": [
    "mean_fitness_idx = \"mean fitness\"\n",
    "best_fitness_idx = \"best fitness\""
   ]
  },
  {
   "cell_type": "code",
   "execution_count": null,
   "id": "b56fef5d",
   "metadata": {},
   "outputs": [],
   "source": [
    "fig, ax1 = plt.subplots()\n",
    "fig.set_size_inches(12, 6)\n",
    "\n",
    "ax2 = ax1.twinx()\n",
    "ax1.plot(progress[mean_fitness_idx], 'r-')\n",
    "ax1.set_ylabel(mean_fitness_idx, color='r')\n",
    "ax2.plot(progress[best_fitness_idx], 'c-')\n",
    "ax2.set_ylabel(best_fitness_idx, color='c')\n",
    "\n",
    "ax1.set_title(\"Optimization progress\")\n",
    "ax1.set_xlabel(\"iteration\");"
   ]
  },
  {
   "cell_type": "code",
   "execution_count": null,
   "id": "f0b0c632",
   "metadata": {},
   "outputs": [],
   "source": [
    "progress_path = os.path.join(res_dir, \"progress.png\")\n",
    "fig.savefig(progress_path, bbox_inches='tight', dpi=200)"
   ]
  },
  {
   "cell_type": "code",
   "execution_count": null,
   "id": "cea68e38",
   "metadata": {},
   "outputs": [],
   "source": []
  }
 ],
 "metadata": {
  "kernelspec": {
   "display_name": "Python 3 (ipykernel)",
   "language": "python",
   "name": "python3"
  },
  "language_info": {
   "codemirror_mode": {
    "name": "ipython",
    "version": 3
   },
   "file_extension": ".py",
   "mimetype": "text/x-python",
   "name": "python",
   "nbconvert_exporter": "python",
   "pygments_lexer": "ipython3",
   "version": "3.10.6"
  }
 },
 "nbformat": 4,
 "nbformat_minor": 5
}
