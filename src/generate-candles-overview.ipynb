{
 "cells": [
  {
   "cell_type": "code",
   "execution_count": 1,
   "id": "364d1d36",
   "metadata": {},
   "outputs": [],
   "source": [
    "import pandas as pd\n",
    "import os\n",
    "from datetime import datetime, timedelta"
   ]
  },
  {
   "cell_type": "code",
   "execution_count": 2,
   "id": "7daba057",
   "metadata": {},
   "outputs": [],
   "source": [
    "in_dir = \"./data/in\""
   ]
  },
  {
   "cell_type": "code",
   "execution_count": 3,
   "id": "d7def6f6",
   "metadata": {},
   "outputs": [
    {
     "data": {
      "text/plain": [
       "['DOGEUSDT.csv',\n",
       " '.DS_Store',\n",
       " 'DASHUSDT.csv',\n",
       " 'ZRXUSDT.csv',\n",
       " 'SOLUSDT.csv',\n",
       " 'LTCUSDT.csv',\n",
       " 'ETHUSDT.csv',\n",
       " 'BTCUSDT.csv',\n",
       " 'ADAUSDT.csv',\n",
       " 'XRPUSDT.csv',\n",
       " 'XLMUSDT.csv']"
      ]
     },
     "execution_count": 3,
     "metadata": {},
     "output_type": "execute_result"
    }
   ],
   "source": [
    "os.listdir(in_dir)"
   ]
  },
  {
   "cell_type": "code",
   "execution_count": 4,
   "id": "e188a257",
   "metadata": {},
   "outputs": [],
   "source": [
    "candle_paths = []\n",
    "\n",
    "for filename in os.listdir(in_dir):\n",
    "    extension = os.path.splitext(filename)[1]\n",
    "    \n",
    "    if extension == \".csv\":\n",
    "        candle_paths.append(os.path.join(in_dir, filename))"
   ]
  },
  {
   "cell_type": "code",
   "execution_count": 5,
   "id": "e4b29b69",
   "metadata": {},
   "outputs": [],
   "source": [
    "asset_col_name = \"Měna\"\n",
    "candle_count_col_name = \"Počet svíček\"\n",
    "from_col_name = \"Od (den)\"\n",
    "to_col_name = \"Do (den)\"\n",
    "duration_col_name = \"Doba (roky)\"\n",
    "candle_overview = pd.DataFrame(columns = [asset_col_name, candle_count_col_name, from_col_name,\n",
    "                                          to_col_name, duration_col_name])"
   ]
  },
  {
   "cell_type": "code",
   "execution_count": 6,
   "id": "000c6bfc",
   "metadata": {},
   "outputs": [],
   "source": [
    "def read_candles(path):\n",
    "    column_names = [\"time\", \"open\", \"high\", \"low\", \"close\", \"volume\"]\n",
    "    candles = pd.read_csv(path, sep = '|', names=column_names, usecols=range(6), header=None)\n",
    "    candles.set_index(\"time\", inplace=True)\n",
    "    candles.index = pd.to_datetime(candles.index,unit='s')\n",
    "    return candles"
   ]
  },
  {
   "cell_type": "code",
   "execution_count": 7,
   "id": "bf2cba6d",
   "metadata": {},
   "outputs": [],
   "source": [
    "def itos(num):\n",
    "    out = '{:,}'.format(num)\n",
    "    return out.replace(\",\", \" \")"
   ]
  },
  {
   "cell_type": "code",
   "execution_count": 8,
   "id": "f3d4c8d0",
   "metadata": {},
   "outputs": [],
   "source": [
    "def ftos(num):\n",
    "    out = \"{:,.1f}\".format(num).replace(',', ' ')\n",
    "    return out.replace(\".\", \",\")"
   ]
  },
  {
   "cell_type": "code",
   "execution_count": 9,
   "id": "05b1151d",
   "metadata": {},
   "outputs": [],
   "source": [
    "def datetime_to_string(time):\n",
    "    return time.strftime('%d. %m. %Y')"
   ]
  },
  {
   "cell_type": "code",
   "execution_count": 10,
   "id": "ef897c6d",
   "metadata": {},
   "outputs": [],
   "source": [
    "quote_name = \"USDT\"\n",
    "\n",
    "for candle_path in candle_paths:\n",
    "    candles = read_candles(candle_path)\n",
    "    candle_count = itos(len(candles))\n",
    "    candle_from = candles.index[0]\n",
    "    candle_to = candles.index[-1]\n",
    "    duration = (candle_to-candle_from).total_seconds()/timedelta(days=365).total_seconds()\n",
    "    \n",
    "    filename = os.path.basename(candle_path)\n",
    "    name = os.path.splitext(filename)[0]\n",
    "    asset = name.replace(quote_name, \"\")\n",
    "    \n",
    "    candle_overview.loc[len(candle_overview)] = {\n",
    "        asset_col_name : asset,\n",
    "        candle_count_col_name : candle_count,\n",
    "        from_col_name : datetime_to_string(candle_from),\n",
    "        to_col_name : datetime_to_string(candle_to),\n",
    "        duration_col_name : ftos(duration)\n",
    "    }"
   ]
  },
  {
   "cell_type": "code",
   "execution_count": 11,
   "id": "79284484",
   "metadata": {},
   "outputs": [
    {
     "data": {
      "text/html": [
       "<div>\n",
       "<style scoped>\n",
       "    .dataframe tbody tr th:only-of-type {\n",
       "        vertical-align: middle;\n",
       "    }\n",
       "\n",
       "    .dataframe tbody tr th {\n",
       "        vertical-align: top;\n",
       "    }\n",
       "\n",
       "    .dataframe thead th {\n",
       "        text-align: right;\n",
       "    }\n",
       "</style>\n",
       "<table border=\"1\" class=\"dataframe\">\n",
       "  <thead>\n",
       "    <tr style=\"text-align: right;\">\n",
       "      <th></th>\n",
       "      <th>Měna</th>\n",
       "      <th>Počet svíček</th>\n",
       "      <th>Od (den)</th>\n",
       "      <th>Do (den)</th>\n",
       "      <th>Doba (roky)</th>\n",
       "    </tr>\n",
       "  </thead>\n",
       "  <tbody>\n",
       "    <tr>\n",
       "      <th>0</th>\n",
       "      <td>DOGE</td>\n",
       "      <td>1 979 751</td>\n",
       "      <td>05. 07. 2019</td>\n",
       "      <td>12. 04. 2023</td>\n",
       "      <td>3,8</td>\n",
       "    </tr>\n",
       "    <tr>\n",
       "      <th>1</th>\n",
       "      <td>DASH</td>\n",
       "      <td>2 122 039</td>\n",
       "      <td>28. 03. 2019</td>\n",
       "      <td>12. 04. 2023</td>\n",
       "      <td>4,0</td>\n",
       "    </tr>\n",
       "    <tr>\n",
       "      <th>2</th>\n",
       "      <td>ZRX</td>\n",
       "      <td>2 160 979</td>\n",
       "      <td>28. 02. 2019</td>\n",
       "      <td>11. 04. 2023</td>\n",
       "      <td>4,1</td>\n",
       "    </tr>\n",
       "    <tr>\n",
       "      <th>3</th>\n",
       "      <td>SOL</td>\n",
       "      <td>1 400 292</td>\n",
       "      <td>11. 08. 2020</td>\n",
       "      <td>11. 04. 2023</td>\n",
       "      <td>2,7</td>\n",
       "    </tr>\n",
       "    <tr>\n",
       "      <th>4</th>\n",
       "      <td>LTC</td>\n",
       "      <td>2 794 419</td>\n",
       "      <td>13. 12. 2017</td>\n",
       "      <td>12. 04. 2023</td>\n",
       "      <td>5,3</td>\n",
       "    </tr>\n",
       "    <tr>\n",
       "      <th>5</th>\n",
       "      <td>ETH</td>\n",
       "      <td>2 963 365</td>\n",
       "      <td>17. 08. 2017</td>\n",
       "      <td>12. 04. 2023</td>\n",
       "      <td>5,7</td>\n",
       "    </tr>\n",
       "    <tr>\n",
       "      <th>6</th>\n",
       "      <td>BTC</td>\n",
       "      <td>2 963 250</td>\n",
       "      <td>17. 08. 2017</td>\n",
       "      <td>11. 04. 2023</td>\n",
       "      <td>5,7</td>\n",
       "    </tr>\n",
       "    <tr>\n",
       "      <th>7</th>\n",
       "      <td>ADA</td>\n",
       "      <td>2 616 803</td>\n",
       "      <td>17. 04. 2018</td>\n",
       "      <td>12. 04. 2023</td>\n",
       "      <td>5,0</td>\n",
       "    </tr>\n",
       "    <tr>\n",
       "      <th>8</th>\n",
       "      <td>XRP</td>\n",
       "      <td>2 591 038</td>\n",
       "      <td>04. 05. 2018</td>\n",
       "      <td>11. 04. 2023</td>\n",
       "      <td>4,9</td>\n",
       "    </tr>\n",
       "    <tr>\n",
       "      <th>9</th>\n",
       "      <td>XLM</td>\n",
       "      <td>2 552 037</td>\n",
       "      <td>31. 05. 2018</td>\n",
       "      <td>11. 04. 2023</td>\n",
       "      <td>4,9</td>\n",
       "    </tr>\n",
       "  </tbody>\n",
       "</table>\n",
       "</div>"
      ],
      "text/plain": [
       "   Měna Počet svíček      Od (den)      Do (den) Doba (roky)\n",
       "0  DOGE    1 979 751  05. 07. 2019  12. 04. 2023         3,8\n",
       "1  DASH    2 122 039  28. 03. 2019  12. 04. 2023         4,0\n",
       "2   ZRX    2 160 979  28. 02. 2019  11. 04. 2023         4,1\n",
       "3   SOL    1 400 292  11. 08. 2020  11. 04. 2023         2,7\n",
       "4   LTC    2 794 419  13. 12. 2017  12. 04. 2023         5,3\n",
       "5   ETH    2 963 365  17. 08. 2017  12. 04. 2023         5,7\n",
       "6   BTC    2 963 250  17. 08. 2017  11. 04. 2023         5,7\n",
       "7   ADA    2 616 803  17. 04. 2018  12. 04. 2023         5,0\n",
       "8   XRP    2 591 038  04. 05. 2018  11. 04. 2023         4,9\n",
       "9   XLM    2 552 037  31. 05. 2018  11. 04. 2023         4,9"
      ]
     },
     "execution_count": 11,
     "metadata": {},
     "output_type": "execute_result"
    }
   ],
   "source": [
    "candle_overview"
   ]
  },
  {
   "cell_type": "code",
   "execution_count": 12,
   "id": "c8c6c43e",
   "metadata": {},
   "outputs": [],
   "source": [
    "# sort by asset name\n",
    "candle_overview = candle_overview.sort_values(asset_col_name)"
   ]
  },
  {
   "cell_type": "code",
   "execution_count": 13,
   "id": "f686369a",
   "metadata": {},
   "outputs": [],
   "source": [
    "report_dir = \"./data/report\"\n",
    "candle_overview.to_csv(os.path.join(report_dir, \"candles-overview.csv\"), index=False)"
   ]
  },
  {
   "cell_type": "code",
   "execution_count": null,
   "id": "1423246d",
   "metadata": {},
   "outputs": [],
   "source": []
  }
 ],
 "metadata": {
  "kernelspec": {
   "display_name": "Python 3 (ipykernel)",
   "language": "python",
   "name": "python3"
  },
  "language_info": {
   "codemirror_mode": {
    "name": "ipython",
    "version": 3
   },
   "file_extension": ".py",
   "mimetype": "text/x-python",
   "name": "python",
   "nbconvert_exporter": "python",
   "pygments_lexer": "ipython3",
   "version": "3.10.6"
  }
 },
 "nbformat": 4,
 "nbformat_minor": 5
}
