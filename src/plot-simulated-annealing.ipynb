{
 "cells": [
  {
   "cell_type": "code",
   "execution_count": null,
   "id": "4cecf06e",
   "metadata": {},
   "outputs": [],
   "source": [
    "# import libraries\n",
    "import numpy as np\n",
    "np.set_printoptions(precision = 4, suppress = True)\n",
    "import pandas as pd\n",
    "import os\n",
    "from datetime import datetime\n",
    "import matplotlib.pyplot as plt\n",
    "import matplotlib as mpl\n",
    "from scipy.stats import gaussian_kde\n",
    "\n",
    "# ignore warnings\n",
    "import warnings\n",
    "warnings.filterwarnings('ignore')"
   ]
  },
  {
   "cell_type": "code",
   "execution_count": null,
   "id": "f8177d83",
   "metadata": {},
   "outputs": [],
   "source": [
    "out_dir = \"./data/out\"\n",
    "optim_dir = os.path.join(out_dir,\"simulated-annealing\")\n",
    "res_dir = os.path.join(optim_dir, \"72\")"
   ]
  },
  {
   "cell_type": "code",
   "execution_count": null,
   "id": "3f6f3ff1",
   "metadata": {},
   "outputs": [],
   "source": [
    "progress = pd.read_csv(os.path.join(res_dir, \"iteration-progress.csv\"))\n",
    "progress.head()"
   ]
  },
  {
   "cell_type": "code",
   "execution_count": null,
   "id": "57b652be",
   "metadata": {},
   "outputs": [],
   "source": [
    "fig, ax1 = plt.subplots()\n",
    "fig.set_size_inches(12, 6)\n",
    "\n",
    "ax2 = ax1.twinx()\n",
    "ax1.plot(progress[\"temperature\"], 'r-')\n",
    "ax1.set_yscale('log')\n",
    "ax2.plot(progress[\"curr state net profit\"], 'c-')\n",
    "\n",
    "\n",
    "ax1.set_title(\"Optimization progress\")\n",
    "ax1.set_xlabel(\"iteration\")\n",
    "ax1.set_ylabel('temperature', color='r')\n",
    "ax2.set_ylabel(\"current state net profit\", color='c');"
   ]
  },
  {
   "cell_type": "code",
   "execution_count": null,
   "id": "1e182903",
   "metadata": {},
   "outputs": [],
   "source": [
    "progress_path = os.path.join(res_dir, \"progress.png\")\n",
    "fig.savefig(progress_path, bbox_inches='tight', dpi=200)"
   ]
  },
  {
   "cell_type": "code",
   "execution_count": null,
   "id": "0d203a56",
   "metadata": {},
   "outputs": [],
   "source": [
    "# https://stackoverflow.com/questions/20105364/how-can-i-make-a-scatter-plot-colored-by-density-in-matplotlib\n",
    "def scatter_with_gaussian_kde(ax, x, y):\n",
    "    # https://stackoverflow.com/a/20107592/3015186\n",
    "    # Answer by Joel Kington\n",
    "\n",
    "    xy = np.vstack([x, y])\n",
    "    z = gaussian_kde(xy)(xy)\n",
    "\n",
    "    ax.scatter(x, y, c=z, s=100)"
   ]
  },
  {
   "cell_type": "code",
   "execution_count": null,
   "id": "96d2e906",
   "metadata": {
    "scrolled": true
   },
   "outputs": [],
   "source": [
    "fig, ax = plt.subplots()\n",
    "fig.set_size_inches(12, 6)\n",
    "scatter_with_gaussian_kde(ax, progress.index, progress[\"mean threshold worse acceptance\"])\n",
    "ax.set_title(\"The mean threshold when accepting a worse state\")\n",
    "ax.set_ylabel(\"threshold\");"
   ]
  },
  {
   "cell_type": "code",
   "execution_count": null,
   "id": "b743ecd7",
   "metadata": {},
   "outputs": [],
   "source": [
    "threshold_path = os.path.join(res_dir, \"threshold.png\")\n",
    "fig.savefig(threshold_path, bbox_inches='tight', dpi=200)"
   ]
  },
  {
   "cell_type": "code",
   "execution_count": null,
   "id": "b11156b6",
   "metadata": {},
   "outputs": [],
   "source": []
  }
 ],
 "metadata": {
  "kernelspec": {
   "display_name": "Python 3 (ipykernel)",
   "language": "python",
   "name": "python3"
  },
  "language_info": {
   "codemirror_mode": {
    "name": "ipython",
    "version": 3
   },
   "file_extension": ".py",
   "mimetype": "text/x-python",
   "name": "python",
   "nbconvert_exporter": "python",
   "pygments_lexer": "ipython3",
   "version": "3.10.6"
  }
 },
 "nbformat": 4,
 "nbformat_minor": 5
}
