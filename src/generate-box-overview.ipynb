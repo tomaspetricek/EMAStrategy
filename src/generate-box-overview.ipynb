{
 "cells": [
  {
   "cell_type": "code",
   "execution_count": 1,
   "id": "9910cc26",
   "metadata": {},
   "outputs": [],
   "source": [
    "import pandas as pd\n",
    "import json\n",
    "import os\n",
    "import numpy as np\n",
    "\n",
    "import warnings\n",
    "warnings.filterwarnings('ignore')"
   ]
  },
  {
   "cell_type": "code",
   "execution_count": 2,
   "id": "aa72849c",
   "metadata": {},
   "outputs": [],
   "source": [
    "out_dir = \"./data/out\"\n",
    "in_dir = \"./data/in\"\n",
    "heuristic_name = \"simulated annealing\"\n",
    "heuristic_dir = os.path.join(out_dir, heuristic_name)\n",
    "\n",
    "box_name = \"black-box-22\"\n",
    "box_dir = os.path.join(heuristic_dir, box_name)\n",
    "\n",
    "brute_force_name = \"brute force\"\n",
    "set_name = \"set-1\"\n",
    "brute_force_dir = os.path.join(out_dir, brute_force_name)\n",
    "set_dir = os.path.join(brute_force_dir, set_name)"
   ]
  },
  {
   "cell_type": "code",
   "execution_count": 3,
   "id": "5ad8a340",
   "metadata": {},
   "outputs": [],
   "source": [
    "def get_experimnet_dirs(set_dir):\n",
    "    experiment_dirs = []\n",
    "    \n",
    "    for filename in os.listdir(set_dir):\n",
    "        path = os.path.join(set_dir, filename)\n",
    "\n",
    "        if os.path.isdir(path):\n",
    "            experiment_dirs.append(path)\n",
    "    \n",
    "    return experiment_dirs    "
   ]
  },
  {
   "cell_type": "code",
   "execution_count": 4,
   "id": "a7babf3d",
   "metadata": {},
   "outputs": [],
   "source": [
    "def read_text(path):\n",
    "    file = open(path, mode='r')\n",
    "    content = file.read()\n",
    "    file.close()\n",
    "    return content"
   ]
  },
  {
   "cell_type": "code",
   "execution_count": 5,
   "id": "2f4c27ff",
   "metadata": {},
   "outputs": [],
   "source": [
    "def read_json(path):\n",
    "    file = open(path, \"r\")\n",
    "    doc = json.loads(file.read())\n",
    "    file.close()\n",
    "    return doc"
   ]
  },
  {
   "cell_type": "code",
   "execution_count": 6,
   "id": "9810d475",
   "metadata": {},
   "outputs": [],
   "source": [
    "def parse_duration(stamp):\n",
    "    parts = stamp.split(':')\n",
    "    seconds = float(parts[-1])\n",
    "    parts.pop()\n",
    "    \n",
    "    for (i, dur) in enumerate(reversed(parts)):\n",
    "        seconds += float(dur)*(60**(i+1))\n",
    "    \n",
    "    return seconds"
   ]
  },
  {
   "cell_type": "code",
   "execution_count": 7,
   "id": "0aa71e60",
   "metadata": {},
   "outputs": [],
   "source": [
    "def ftos(num):\n",
    "    out = \"{:,.1f}\".format(num).replace(',', ' ')\n",
    "    return out.replace(\".\", \",\")"
   ]
  },
  {
   "cell_type": "code",
   "execution_count": 8,
   "id": "863a9fe8",
   "metadata": {},
   "outputs": [],
   "source": [
    "asset_col_name = \"Měna\"\n",
    "optim_value_col_name = \"Optimalizační hodnota\"\n",
    "duration_col_name = \"Doba trvání (s)\"\n",
    "\n",
    "def read_test_set(set_dir):\n",
    "    duration_name = \"duration: \"\n",
    "    data = []\n",
    "\n",
    "    for experiment_dir in get_experimnet_dirs(set_dir):\n",
    "        log = read_text(os.path.join(experiment_dir, \"log.txt\"))\n",
    "        duration_idx = log.rfind(duration_name)\n",
    "        duration = parse_duration(log[duration_idx:-1].replace(duration_name, \"\"))\n",
    "\n",
    "        best_state_doc = read_json(os.path.join(experiment_dir, \"best-states.json\"))[0]\n",
    "        optim_value = best_state_doc[\"optimization value\"]\n",
    "\n",
    "        settings_doc = read_json(os.path.join(experiment_dir, \"settings.json\"))\n",
    "        asset_name = settings_doc[\"candles\"][\"currency pair\"][\"base\"]\n",
    "        \n",
    "        data.append({\n",
    "            asset_col_name : asset_name,\n",
    "            optim_value_col_name : optim_value,\n",
    "            duration_col_name : duration\n",
    "        })\n",
    "        \n",
    "    overview = pd.DataFrame(data)\n",
    "    return overview.sort_values(asset_col_name)"
   ]
  },
  {
   "cell_type": "code",
   "execution_count": 9,
   "id": "b9ff1c04",
   "metadata": {},
   "outputs": [],
   "source": [
    "optim_value_diff_col_name = \"Rozdíl hodnot optimalizačního kritéria (%)\"\n",
    "acceleration_col_name = \"Zrychlení\"\n",
    "\n",
    "def update_overview(set_overview, box_overview):\n",
    "    box_overview[optim_value_diff_col_name] = np.nan\n",
    "    box_overview[acceleration_col_name] = np.nan\n",
    "\n",
    "    for asset_name in box_overview[asset_col_name]:\n",
    "        box_row = box_overview.loc[box_overview[asset_col_name] == asset_name]\n",
    "        set_row = set_overview.loc[set_overview[asset_col_name] == asset_name]\n",
    "\n",
    "        box_idx = box_row.index[0]\n",
    "        box_row = box_row.to_dict('r')[0]\n",
    "        set_row = set_row.to_dict('r')[0]\n",
    "\n",
    "        box_overview.at[box_idx, acceleration_col_name] = set_row[duration_col_name]/box_row[duration_col_name]\n",
    "        box_overview.at[box_idx, optim_value_diff_col_name] = 100*((box_row[optim_value_col_name]\n",
    "                                                                          -set_row[optim_value_col_name])\n",
    "                                                                         /set_row[optim_value_col_name])"
   ]
  },
  {
   "cell_type": "code",
   "execution_count": 10,
   "id": "bc36ca6b",
   "metadata": {},
   "outputs": [],
   "source": [
    "def convert_overview(box_overview):\n",
    "    box_overview[optim_value_col_name] = box_overview[optim_value_col_name].apply(lambda x: ftos(x))\n",
    "    box_overview[duration_col_name] = box_overview[duration_col_name].apply(lambda x: ftos(x))\n",
    "    box_overview[optim_value_diff_col_name] = box_overview[optim_value_diff_col_name].apply(lambda x: ftos(x))\n",
    "    box_overview[acceleration_col_name] = box_overview[acceleration_col_name].apply(lambda x: ftos(x))"
   ]
  },
  {
   "cell_type": "code",
   "execution_count": 11,
   "id": "197d5606",
   "metadata": {},
   "outputs": [],
   "source": [
    "set_overview = read_test_set(set_dir)\n",
    "box_overview = read_test_set(box_dir)\n",
    "update_overview(set_overview, box_overview)\n",
    "convert_overview(box_overview)"
   ]
  },
  {
   "cell_type": "code",
   "execution_count": 12,
   "id": "5202711f",
   "metadata": {},
   "outputs": [],
   "source": [
    "# reorder columns\n",
    "cols = [asset_col_name, optim_value_diff_col_name, duration_col_name, acceleration_col_name]\n",
    "box_overview = box_overview[cols]"
   ]
  },
  {
   "cell_type": "code",
   "execution_count": 13,
   "id": "905720df",
   "metadata": {},
   "outputs": [
    {
     "data": {
      "text/html": [
       "<div>\n",
       "<style scoped>\n",
       "    .dataframe tbody tr th:only-of-type {\n",
       "        vertical-align: middle;\n",
       "    }\n",
       "\n",
       "    .dataframe tbody tr th {\n",
       "        vertical-align: top;\n",
       "    }\n",
       "\n",
       "    .dataframe thead th {\n",
       "        text-align: right;\n",
       "    }\n",
       "</style>\n",
       "<table border=\"1\" class=\"dataframe\">\n",
       "  <thead>\n",
       "    <tr style=\"text-align: right;\">\n",
       "      <th></th>\n",
       "      <th>Měna</th>\n",
       "      <th>Rozdíl hodnot optimalizačního kritéria (%)</th>\n",
       "      <th>Doba trvání (s)</th>\n",
       "      <th>Zrychlení</th>\n",
       "    </tr>\n",
       "  </thead>\n",
       "  <tbody>\n",
       "    <tr>\n",
       "      <th>3</th>\n",
       "      <td>DOGE</td>\n",
       "      <td>0,0</td>\n",
       "      <td>159,7</td>\n",
       "      <td>10,0</td>\n",
       "    </tr>\n",
       "    <tr>\n",
       "      <th>6</th>\n",
       "      <td>ETH</td>\n",
       "      <td>0,0</td>\n",
       "      <td>192,5</td>\n",
       "      <td>12,5</td>\n",
       "    </tr>\n",
       "    <tr>\n",
       "      <th>0</th>\n",
       "      <td>LTC</td>\n",
       "      <td>0,0</td>\n",
       "      <td>177,2</td>\n",
       "      <td>12,0</td>\n",
       "    </tr>\n",
       "    <tr>\n",
       "      <th>2</th>\n",
       "      <td>SOL</td>\n",
       "      <td>0,0</td>\n",
       "      <td>86,9</td>\n",
       "      <td>14,0</td>\n",
       "    </tr>\n",
       "    <tr>\n",
       "      <th>4</th>\n",
       "      <td>XLM</td>\n",
       "      <td>0,0</td>\n",
       "      <td>163,8</td>\n",
       "      <td>12,1</td>\n",
       "    </tr>\n",
       "    <tr>\n",
       "      <th>1</th>\n",
       "      <td>XRP</td>\n",
       "      <td>0,0</td>\n",
       "      <td>161,2</td>\n",
       "      <td>12,7</td>\n",
       "    </tr>\n",
       "    <tr>\n",
       "      <th>5</th>\n",
       "      <td>ZRX</td>\n",
       "      <td>0,0</td>\n",
       "      <td>133,8</td>\n",
       "      <td>12,8</td>\n",
       "    </tr>\n",
       "  </tbody>\n",
       "</table>\n",
       "</div>"
      ],
      "text/plain": [
       "   Měna Rozdíl hodnot optimalizačního kritéria (%) Doba trvání (s) Zrychlení\n",
       "3  DOGE                                        0,0           159,7      10,0\n",
       "6   ETH                                        0,0           192,5      12,5\n",
       "0   LTC                                        0,0           177,2      12,0\n",
       "2   SOL                                        0,0            86,9      14,0\n",
       "4   XLM                                        0,0           163,8      12,1\n",
       "1   XRP                                        0,0           161,2      12,7\n",
       "5   ZRX                                        0,0           133,8      12,8"
      ]
     },
     "execution_count": 13,
     "metadata": {},
     "output_type": "execute_result"
    }
   ],
   "source": [
    "box_overview"
   ]
  },
  {
   "cell_type": "code",
   "execution_count": 14,
   "id": "981827e7",
   "metadata": {},
   "outputs": [],
   "source": [
    "report_dir = \"./data/report\"\n",
    "optimizer_dir = os.path.join(report_dir, heuristic_name)\n",
    "\n",
    "if not os.path.exists(optimizer_dir):\n",
    "    os.makedirs(optimizer_dir)\n",
    "\n",
    "box_overview.to_csv(os.path.join(optimizer_dir, box_name + \"-overview.csv\"), index=False)"
   ]
  },
  {
   "cell_type": "code",
   "execution_count": null,
   "id": "0928b27b",
   "metadata": {},
   "outputs": [],
   "source": []
  }
 ],
 "metadata": {
  "kernelspec": {
   "display_name": "Python 3 (ipykernel)",
   "language": "python",
   "name": "python3"
  },
  "language_info": {
   "codemirror_mode": {
    "name": "ipython",
    "version": 3
   },
   "file_extension": ".py",
   "mimetype": "text/x-python",
   "name": "python",
   "nbconvert_exporter": "python",
   "pygments_lexer": "ipython3",
   "version": "3.10.6"
  }
 },
 "nbformat": 4,
 "nbformat_minor": 5
}
