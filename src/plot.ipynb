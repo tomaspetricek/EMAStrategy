{
 "cells": [
  {
   "cell_type": "code",
   "execution_count": 1,
   "id": "e4294fa7",
   "metadata": {},
   "outputs": [],
   "source": [
    "# import libraries\n",
    "import numpy as np\n",
    "np.set_printoptions(precision = 4, suppress = True)\n",
    "import pandas as pd\n",
    "import os\n",
    "from datetime import datetime\n",
    "%matplotlib qt\n",
    "\n",
    "# ignore warnings\n",
    "import warnings\n",
    "warnings.filterwarnings('ignore')\n",
    "\n",
    "# import modules\n",
    "from widgets import CandlestickWidget"
   ]
  },
  {
   "cell_type": "code",
   "execution_count": 2,
   "id": "8992d49e",
   "metadata": {},
   "outputs": [],
   "source": [
    "out_data_dir = \"../data/out\"\n",
    "in_data_dir = \"../data/in\""
   ]
  },
  {
   "cell_type": "code",
   "execution_count": 3,
   "id": "d81ce369",
   "metadata": {},
   "outputs": [],
   "source": [
    "def get_data_points(csv_path, sep=\",\", date_col=\"time\"):    \n",
    "    # read file\n",
    "    data_points = pd.read_csv(csv_path, sep)\n",
    "    \n",
    "    # convert time\n",
    "    data_points[date_col] = data_points[date_col].apply(lambda x: datetime.utcfromtimestamp(x))\n",
    "    \n",
    "    # set index\n",
    "    data_points.set_index(date_col, inplace=True)\n",
    "\n",
    "    return data_points"
   ]
  },
  {
   "cell_type": "code",
   "execution_count": 4,
   "id": "94fd2900",
   "metadata": {},
   "outputs": [],
   "source": [
    "open_points = get_data_points(os.path.join(out_data_dir, \"open_points.csv\"))\n",
    "close_points = get_data_points(os.path.join(out_data_dir, \"closed_points.csv\"))\n",
    "mean_price_points = get_data_points(os.path.join(out_data_dir, \"mean_price_points.csv\"))\n",
    "indic_points = get_data_points(os.path.join(out_data_dir, \"indicator_values.csv\"))"
   ]
  },
  {
   "cell_type": "code",
   "execution_count": 5,
   "id": "fa4d9aa4",
   "metadata": {},
   "outputs": [],
   "source": [
    "candlestick_points = get_data_points(os.path.join(in_data_dir, \"btc-usdt-30-min.csv\"), sep=\";\")"
   ]
  },
  {
   "cell_type": "code",
   "execution_count": 6,
   "id": "f13bad0f",
   "metadata": {},
   "outputs": [],
   "source": [
    "# reindex\n",
    "open_points = open_points.reindex(candlestick_points.index)\n",
    "closed_points = close_points.reindex(candlestick_points.index)\n",
    "mean_price_points = mean_price_points.reindex(candlestick_points.index)\n",
    "indic_points = indic_points.reindex(candlestick_points.index)"
   ]
  },
  {
   "cell_type": "code",
   "execution_count": 7,
   "id": "a35056a9",
   "metadata": {},
   "outputs": [],
   "source": [
    "pair = \"BTC/USDT\"\n",
    "interval = \"30 min\"\n",
    "title = f\"{pair}\\n{interval}\""
   ]
  },
  {
   "cell_type": "code",
   "execution_count": 8,
   "id": "9086b629",
   "metadata": {},
   "outputs": [],
   "source": [
    "candles = CandlestickWidget(candlestick_points, indic_points, mean_price_points, open_points, closed_points, title)"
   ]
  },
  {
   "cell_type": "code",
   "execution_count": 9,
   "id": "c2d090fc",
   "metadata": {},
   "outputs": [],
   "source": [
    "candles.show()"
   ]
  }
 ],
 "metadata": {
  "kernelspec": {
   "display_name": "Python 3 (ipykernel)",
   "language": "python",
   "name": "python3"
  },
  "language_info": {
   "codemirror_mode": {
    "name": "ipython",
    "version": 3
   },
   "file_extension": ".py",
   "mimetype": "text/x-python",
   "name": "python",
   "nbconvert_exporter": "python",
   "pygments_lexer": "ipython3",
   "version": "3.10.6"
  }
 },
 "nbformat": 4,
 "nbformat_minor": 5
}
