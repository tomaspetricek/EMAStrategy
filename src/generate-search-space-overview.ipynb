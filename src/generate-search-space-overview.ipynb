{
 "cells": [
  {
   "cell_type": "code",
   "execution_count": 1,
   "id": "17544215",
   "metadata": {},
   "outputs": [],
   "source": [
    "import pandas as pd\n",
    "import json\n",
    "import os\n",
    "import numpy as np"
   ]
  },
  {
   "cell_type": "code",
   "execution_count": 2,
   "id": "cc8a612e",
   "metadata": {},
   "outputs": [],
   "source": [
    "out_dir = \"./data/out\"\n",
    "in_dir = \"./data/in\""
   ]
  },
  {
   "cell_type": "code",
   "execution_count": 5,
   "id": "efdf0fb2",
   "metadata": {},
   "outputs": [],
   "source": [
    "optimizer_name = \"brute force\"\n",
    "set_names = [\"set-1\", \"set-2\", \"set-3\"]\n",
    "optimizer_dir = os.path.join(out_dir, optimizer_name)"
   ]
  },
  {
   "cell_type": "code",
   "execution_count": 16,
   "id": "a132bb2d",
   "metadata": {},
   "outputs": [
    {
     "name": "stdout",
     "output_type": "stream",
     "text": [
      "{'count': 3, 'lower bound': '15/20', 'unique count': 15}\n"
     ]
    },
    {
     "ename": "TypeError",
     "evalue": "string indices must be integers",
     "output_type": "error",
     "traceback": [
      "\u001b[0;31m---------------------------------------------------------------------------\u001b[0m",
      "\u001b[0;31mTypeError\u001b[0m                                 Traceback (most recent call last)",
      "Input \u001b[0;32mIn [16]\u001b[0m, in \u001b[0;36m<cell line: 1>\u001b[0;34m()\u001b[0m\n\u001b[1;32m     11\u001b[0m search_space_doc \u001b[38;5;241m=\u001b[39m settings_doc[\u001b[38;5;124m\"\u001b[39m\u001b[38;5;124msearch space\u001b[39m\u001b[38;5;124m\"\u001b[39m][\u001b[38;5;241m0\u001b[39m]\n\u001b[1;32m     12\u001b[0m \u001b[38;5;28mprint\u001b[39m(search_space_doc[\u001b[38;5;241m1\u001b[39m])\n\u001b[0;32m---> 13\u001b[0m levels_doc \u001b[38;5;241m=\u001b[39m \u001b[43msearch_space_doc\u001b[49m\u001b[43m[\u001b[49m\u001b[38;5;241;43m0\u001b[39;49m\u001b[43m]\u001b[49m\u001b[43m[\u001b[49m\u001b[38;5;124;43m\"\u001b[39;49m\u001b[38;5;124;43mlevels\u001b[39;49m\u001b[38;5;124;43m\"\u001b[39;49m\u001b[43m]\u001b[49m\n\u001b[1;32m     14\u001b[0m levels_unique_count \u001b[38;5;241m=\u001b[39m levels_doc[\u001b[38;5;124m\"\u001b[39m\u001b[38;5;124munique count\u001b[39m\u001b[38;5;124m\"\u001b[39m]\n\u001b[1;32m     15\u001b[0m levels_lower_bound \u001b[38;5;241m=\u001b[39m levels_doc[\u001b[38;5;124m\"\u001b[39m\u001b[38;5;124mlower bound\u001b[39m\u001b[38;5;124m\"\u001b[39m]\n",
      "\u001b[0;31mTypeError\u001b[0m: string indices must be integers"
     ]
    }
   ],
   "source": [
    "for set_name in set_names:\n",
    "    set_dir = os.path.join(optimizer_dir, set_name)\n",
    "    experiment_dir = os.path.join(set_dir, \"01\")\n",
    "    settings_path = os.path.join(experiment_dir, \"settings.json\")\n",
    "    \n",
    "    settings_file = open(settings_path, \"r\")\n",
    "    settings_doc = json.loads(settings_file.read())\n",
    "    \n",
    "    resampling_period = settings_doc[\"resampling\"][\"period[min]\"]\n",
    "    \n",
    "    search_space_doc = settings_doc[\"search space\"][0]\n",
    "    print(search_space_doc[1])\n",
    "    levels_doc = search_space_doc[0][\"levels\"]\n",
    "    levels_unique_count = levels_doc[\"unique count\"]\n",
    "    levels_lower_bound = levels_doc[\"lower bound\"]\n",
    "    \n",
    "    print(settings_doc)\n",
    "    assert(False)"
   ]
  },
  {
   "cell_type": "code",
   "execution_count": 7,
   "id": "23715cca",
   "metadata": {},
   "outputs": [
    {
     "data": {
      "text/plain": [
       "['./data/out/brute force/set-1',\n",
       " './data/out/brute force/set-2',\n",
       " './data/out/brute force/set-3']"
      ]
     },
     "execution_count": 7,
     "metadata": {},
     "output_type": "execute_result"
    }
   ],
   "source": [
    "set_dirs"
   ]
  },
  {
   "cell_type": "code",
   "execution_count": null,
   "id": "31c953f5",
   "metadata": {},
   "outputs": [],
   "source": []
  }
 ],
 "metadata": {
  "kernelspec": {
   "display_name": "Python 3 (ipykernel)",
   "language": "python",
   "name": "python3"
  },
  "language_info": {
   "codemirror_mode": {
    "name": "ipython",
    "version": 3
   },
   "file_extension": ".py",
   "mimetype": "text/x-python",
   "name": "python",
   "nbconvert_exporter": "python",
   "pygments_lexer": "ipython3",
   "version": "3.10.6"
  }
 },
 "nbformat": 4,
 "nbformat_minor": 5
}
