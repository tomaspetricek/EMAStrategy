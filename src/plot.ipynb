{
 "cells": [
  {
   "cell_type": "code",
   "execution_count": 1,
   "id": "e4294fa7",
   "metadata": {},
   "outputs": [],
   "source": [
    "# import libraries\n",
    "import numpy as np\n",
    "np.set_printoptions(precision = 4, suppress = True)\n",
    "import pandas as pd\n",
    "import os\n",
    "from datetime import datetime\n",
    "%matplotlib qt\n",
    "\n",
    "# ignore warnings\n",
    "import warnings\n",
    "warnings.filterwarnings('ignore')\n",
    "\n",
    "# import modules\n",
    "from widgets import CandlestickWidget"
   ]
  },
  {
   "cell_type": "code",
   "execution_count": 2,
   "id": "8992d49e",
   "metadata": {},
   "outputs": [],
   "source": [
    "out_data_dir = \"data/out\"\n",
    "n_levels = 4"
   ]
  },
  {
   "cell_type": "code",
   "execution_count": 3,
   "id": "d81ce369",
   "metadata": {},
   "outputs": [],
   "source": [
    "def get_data_points(csv_path, sep=\",\", date_col=\"time\"):    \n",
    "    # read file\n",
    "    data_points = pd.read_csv(csv_path, sep)\n",
    "    \n",
    "    # convert time\n",
    "    data_points[date_col] = data_points[date_col].apply(lambda x: datetime.utcfromtimestamp(x))\n",
    "    \n",
    "    # set index\n",
    "    data_points.set_index(date_col, inplace=True)\n",
    "\n",
    "    return data_points"
   ]
  },
  {
   "cell_type": "code",
   "execution_count": 5,
   "id": "94fd2900",
   "metadata": {},
   "outputs": [],
   "source": [
    "candlestick_points = get_data_points(os.path.join(out_data_dir, \"candles.csv\"))\n",
    "open_points = get_data_points(os.path.join(out_data_dir, \"open_points.csv\"))\n",
    "close_points = get_data_points(os.path.join(out_data_dir, \"close_points.csv\"))\n",
    "mean_price_points = get_data_points(os.path.join(out_data_dir, \"mean_points.csv\"))\n",
    "indic_points = get_data_points(os.path.join(out_data_dir, \"indic_points.csv\"))"
   ]
  },
  {
   "cell_type": "code",
   "execution_count": 6,
   "id": "69e9ed77",
   "metadata": {},
   "outputs": [],
   "source": [
    "def group_points(points):\n",
    "    return points.groupby(points.index).agg(lambda x: list(x))"
   ]
  },
  {
   "cell_type": "code",
   "execution_count": 7,
   "id": "12244980",
   "metadata": {},
   "outputs": [],
   "source": [
    "open_points = group_points(open_points)"
   ]
  },
  {
   "cell_type": "code",
   "execution_count": 8,
   "id": "e3508ddf",
   "metadata": {},
   "outputs": [],
   "source": [
    "prices_levels = np.full((len(open_points.index), n_levels), np.nan)\n",
    "\n",
    "for row_idx, row in enumerate(open_points.iterrows()):\n",
    "    prices = row[1][\"price\"]\n",
    "    \n",
    "    for col_idx, price in enumerate(prices):\n",
    "        prices_levels[row_idx][col_idx] = price"
   ]
  },
  {
   "cell_type": "code",
   "execution_count": 9,
   "id": "b91a4375",
   "metadata": {},
   "outputs": [],
   "source": [
    "open_points_levels = []\n",
    "\n",
    "for col_idx in range(n_levels):\n",
    "    open_points_levels.append(pd.DataFrame(data=prices_levels[:, col_idx], index=open_points.index,\n",
    "                                           columns=open_points.columns))"
   ]
  },
  {
   "cell_type": "code",
   "execution_count": 10,
   "id": "f13bad0f",
   "metadata": {},
   "outputs": [],
   "source": [
    "# reindex\n",
    "close_points = close_points.reindex(candlestick_points.index)\n",
    "mean_price_points = mean_price_points.reindex(candlestick_points.index)\n",
    "indic_points = indic_points.reindex(candlestick_points.index)\n",
    "\n",
    "for col_idx in range(n_levels):\n",
    "    open_points_levels[col_idx] = open_points_levels[col_idx].reindex(candlestick_points.index)"
   ]
  },
  {
   "cell_type": "code",
   "execution_count": 11,
   "id": "a35056a9",
   "metadata": {},
   "outputs": [],
   "source": [
    "pair = \"BTC/USDT\"\n",
    "interval = \"1 hour\"\n",
    "title = f\"{pair}\\n{interval}\""
   ]
  },
  {
   "cell_type": "code",
   "execution_count": 12,
   "id": "9086b629",
   "metadata": {},
   "outputs": [],
   "source": [
    "candles = CandlestickWidget(candlestick_points, indic_points, mean_price_points, open_points_levels, close_points, title)"
   ]
  },
  {
   "cell_type": "code",
   "execution_count": 13,
   "id": "c2d090fc",
   "metadata": {},
   "outputs": [],
   "source": [
    "candles.show()"
   ]
  },
  {
   "cell_type": "code",
   "execution_count": null,
   "id": "828a979f",
   "metadata": {},
   "outputs": [],
   "source": []
  }
 ],
 "metadata": {
  "kernelspec": {
   "display_name": "Python 3 (ipykernel)",
   "language": "python",
   "name": "python3"
  },
  "language_info": {
   "codemirror_mode": {
    "name": "ipython",
    "version": 3
   },
   "file_extension": ".py",
   "mimetype": "text/x-python",
   "name": "python",
   "nbconvert_exporter": "python",
   "pygments_lexer": "ipython3",
   "version": "3.10.6"
  }
 },
 "nbformat": 4,
 "nbformat_minor": 5
}
