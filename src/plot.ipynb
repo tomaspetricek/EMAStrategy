{
 "cells": [
  {
   "cell_type": "code",
   "execution_count": 1,
   "id": "e4294fa7",
   "metadata": {},
   "outputs": [],
   "source": [
    "# import libraries\n",
    "from itertools import chain\n",
    "import numpy as np\n",
    "np.set_printoptions(precision = 4, suppress = True)\n",
    "import pandas as pd\n",
    "import os\n",
    "from datetime import datetime\n",
    "import mplfinance as mpf\n",
    "import matplotlib.pyplot as plt\n",
    "from matplotlib.widgets import Slider\n",
    "from matplotlib.dates import num2date, date2num\n",
    "%matplotlib qt"
   ]
  },
  {
   "cell_type": "code",
   "execution_count": 2,
   "id": "f9608383",
   "metadata": {},
   "outputs": [],
   "source": [
    "# ignore warnings\n",
    "import warnings\n",
    "warnings.filterwarnings('ignore')"
   ]
  },
  {
   "cell_type": "code",
   "execution_count": 3,
   "id": "8992d49e",
   "metadata": {},
   "outputs": [],
   "source": [
    "out_data_dir = \"../data/out\"\n",
    "in_data_dir = \"../data/in\""
   ]
  },
  {
   "cell_type": "code",
   "execution_count": 4,
   "id": "d81ce369",
   "metadata": {},
   "outputs": [],
   "source": [
    "def get_data_points(csv_path, sep=\",\", date_col=\"time\"):    \n",
    "    # read file\n",
    "    data_points = pd.read_csv(csv_path, sep)\n",
    "    \n",
    "    # convert time\n",
    "    data_points[date_col] = data_points[date_col].apply(lambda x: datetime.utcfromtimestamp(x))\n",
    "    \n",
    "    # set index\n",
    "    data_points.set_index(date_col, inplace=True)\n",
    "\n",
    "    return data_points"
   ]
  },
  {
   "cell_type": "code",
   "execution_count": 5,
   "id": "94fd2900",
   "metadata": {},
   "outputs": [],
   "source": [
    "open_points = get_data_points(os.path.join(out_data_dir, \"open_points.csv\"))\n",
    "close_points = get_data_points(os.path.join(out_data_dir, \"closed_points.csv\"))\n",
    "mean_price_points = get_data_points(os.path.join(out_data_dir, \"mean_price_points.csv\"))\n",
    "indics_points = get_data_points(os.path.join(out_data_dir, \"indicator_values.csv\"))"
   ]
  },
  {
   "cell_type": "code",
   "execution_count": 6,
   "id": "fa4d9aa4",
   "metadata": {},
   "outputs": [],
   "source": [
    "ohlc = get_data_points(os.path.join(in_data_dir, \"btc-usdt-30-min.csv\"), sep=\";\")"
   ]
  },
  {
   "cell_type": "code",
   "execution_count": 7,
   "id": "f13bad0f",
   "metadata": {},
   "outputs": [],
   "source": [
    "# reindex\n",
    "open_points = open_points.reindex(ohlc.index)\n",
    "closed_points = close_points.reindex(ohlc.index)\n",
    "mean_price_points = mean_price_points.reindex(ohlc.index)\n",
    "indics_points = indics_points.reindex(ohlc.index)"
   ]
  },
  {
   "cell_type": "code",
   "execution_count": 8,
   "id": "a35056a9",
   "metadata": {},
   "outputs": [],
   "source": [
    "pair = \"BTC/USDT\"\n",
    "interval = \"30 min\"\n",
    "title = f\"{pair}\\n{interval}\"\n",
    "\n",
    "candlesticks_labels = ['candlestick wick', 'candlestick body']\n",
    "indic_vals_labels = list(indics_points)\n",
    "mean_price_labels = list(mean_price_points)\n",
    "open_points_label = [\"open position\"]\n",
    "close_points_label = [\"closed position\"]\n",
    "\n",
    "labels = list(chain(candlesticks_labels, indic_vals_labels, mean_price_labels, open_points_label, close_points_label))"
   ]
  },
  {
   "cell_type": "code",
   "execution_count": 9,
   "id": "b9633617",
   "metadata": {},
   "outputs": [],
   "source": [
    "def plot_data_points(ax, min_time, max_time):\n",
    "    addons = [\n",
    "        mpf.make_addplot(indics_points.loc[min_time:max_time], ax=ax),\n",
    "        mpf.make_addplot(mean_price_points.loc[min_time:max_time], ax=ax),\n",
    "        mpf.make_addplot(open_points.loc[min_time:max_time], ax=ax, type='scatter', markersize=200, marker='^'),\n",
    "        mpf.make_addplot(closed_points.loc[min_time:max_time], ax=ax, type='scatter', markersize=200, marker='v'),\n",
    "    ]\n",
    "    ax.clear()\n",
    "    mpf.plot(ohlc.loc[min_time:max_time], ax=ax, addplot=addons, type='candle', style='binance')\n",
    "    ax.legend(labels, loc='center left', bbox_to_anchor=(1, 0.5))"
   ]
  },
  {
   "cell_type": "code",
   "execution_count": 10,
   "id": "661d098e",
   "metadata": {},
   "outputs": [
    {
     "data": {
      "text/plain": [
       "0"
      ]
     },
     "execution_count": 10,
     "metadata": {},
     "output_type": "execute_result"
    }
   ],
   "source": [
    "# https://stackoverflow.com/questions/31015755/datetime-with-slider-widget-in-matplotlib\n",
    "# https://stackoverflow.com/questions/71164033/date-tick-marks-mm-dd-on-slider\n",
    "# https://stackoverflow.com/questions/4700614/how-to-put-the-legend-outside-the-plot\n",
    "n_points = 250\n",
    "\n",
    "min_time = ohlc.index[0]\n",
    "max_time = ohlc.index[n_points]\n",
    "delta_time = max_time - min_time\n",
    "\n",
    "# create figure\n",
    "fig = mpf.figure(style='binance', figsize=(10, 6))\n",
    "fig.suptitle(title)\n",
    "ax = fig.add_subplot(1,1,1)\n",
    "plt.subplots_adjust(bottom=0.25) # add space for slider\n",
    "\n",
    "# shrink current axis to fit legend\n",
    "box = ax.get_position()\n",
    "shrink_ratio = 0.85\n",
    "ax.set_position([box.x0, box.y0, box.width * shrink_ratio, box.height])\n",
    "\n",
    "# create slider\n",
    "slider_ax = plt.axes([0.18, 0.05, 0.6, 0.03])\n",
    "slider_max_index = len(ohlc.index) - n_points - 1\n",
    "slider_max_time = ohlc.index[slider_max_index]\n",
    "slider_min_val = date2num(min_time)\n",
    "slider_max_val = date2num(slider_max_time)\n",
    "time_slider = Slider(slider_ax, \"time\", slider_min_val, slider_max_val)\n",
    "\n",
    "# add time ticks\n",
    "slider_ax.add_artist(slider_ax.xaxis)\n",
    "time_tick_vals = np.linspace(slider_min_val, slider_max_val, 8)\n",
    "slider_ax.set_xticks(time_tick_vals, [num2date(s).strftime(\"%m-%d-%y\") for s in time_tick_vals])\n",
    "\n",
    "# update figure based on slider value\n",
    "def update(min_pos):\n",
    "    min_time = num2date(min_pos)\n",
    "    max_time = num2date(min_pos) + delta_time\n",
    "    plot_data_points(ax, min_time, max_time)\n",
    "    time_slider.valtext.set_text(min_time.strftime(\"%m/%d/%Y, %H:%M:%S\"))\n",
    "    fig.canvas.draw_idle()\n",
    "\n",
    "# init time slider\n",
    "update(slider_min_val)\n",
    "time_slider.on_changed(update)"
   ]
  },
  {
   "cell_type": "code",
   "execution_count": null,
   "id": "9086b629",
   "metadata": {},
   "outputs": [],
   "source": []
  }
 ],
 "metadata": {
  "kernelspec": {
   "display_name": "Python 3 (ipykernel)",
   "language": "python",
   "name": "python3"
  },
  "language_info": {
   "codemirror_mode": {
    "name": "ipython",
    "version": 3
   },
   "file_extension": ".py",
   "mimetype": "text/x-python",
   "name": "python",
   "nbconvert_exporter": "python",
   "pygments_lexer": "ipython3",
   "version": "3.10.6"
  }
 },
 "nbformat": 4,
 "nbformat_minor": 5
}
