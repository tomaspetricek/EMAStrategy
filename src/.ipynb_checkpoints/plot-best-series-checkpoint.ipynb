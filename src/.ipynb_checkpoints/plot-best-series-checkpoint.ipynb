{
 "cells": [
  {
   "cell_type": "code",
   "execution_count": 1,
   "id": "d36c1a17",
   "metadata": {},
   "outputs": [],
   "source": [
    "# import libraries\n",
    "import numpy as np\n",
    "np.set_printoptions(precision = 4, suppress = True)\n",
    "import pandas as pd\n",
    "import os\n",
    "from datetime import datetime\n",
    "import matplotlib.pyplot as plt\n",
    "import json\n",
    "\n",
    "# ignore warnings\n",
    "import warnings\n",
    "warnings.filterwarnings('ignore')\n",
    "\n",
    "# import modules\n",
    "from widgets import CandlestickWidget\n",
    "\n",
    "import mplfinance as mpf"
   ]
  },
  {
   "cell_type": "code",
   "execution_count": 2,
   "id": "52bfe0f6",
   "metadata": {},
   "outputs": [],
   "source": [
    "out_dir = \"./data/out\"\n",
    "in_dir = \"./data/in\""
   ]
  },
  {
   "cell_type": "code",
   "execution_count": 3,
   "id": "6fc73bed",
   "metadata": {},
   "outputs": [],
   "source": [
    "experiment_name = \"set-1/01\"\n",
    "optimizer_name = \"brute force\"\n",
    "\n",
    "optimizer_dir = os.path.join(out_dir, optimizer_name)\n",
    "experiment_dir = os.path.join(optimizer_dir, experiment_name)\n",
    "series_dir = os.path.join(experiment_dir, \"best-series\")"
   ]
  },
  {
   "cell_type": "code",
   "execution_count": 4,
   "id": "cab2c42c",
   "metadata": {},
   "outputs": [],
   "source": [
    "# read settings\n",
    "settings_path = os.path.join(experiment_dir, \"settings.json\")\n",
    "file = open(settings_path, \"r\")\n",
    "settings_doc = json.loads(file.read())\n",
    "pair_doc = settings_doc[\"candles\"][\"currency pair\"];\n",
    "base_name = pair_doc[\"base\"]\n",
    "quote_name = pair_doc[\"quote\"]"
   ]
  },
  {
   "cell_type": "code",
   "execution_count": 5,
   "id": "3257b4e7",
   "metadata": {},
   "outputs": [],
   "source": [
    "candles_path = os.path.join(in_dir, \"{}{}.csv\".format(base_name, quote_name))\n",
    "asset_name = \"{}/{}\".format(base_name, quote_name)"
   ]
  },
  {
   "cell_type": "code",
   "execution_count": 6,
   "id": "7c67f5ce",
   "metadata": {},
   "outputs": [],
   "source": [
    "def get_series(csv_path, sep=',', time_col=\"time\"):\n",
    "    series = pd.read_csv(csv_path, sep)\n",
    "    series.drop(index=0)\n",
    "    series[time_col] = pd.to_datetime(series[time_col], unit='s')\n",
    "    series.set_index(time_col, inplace=True)\n",
    "    return series"
   ]
  },
  {
   "cell_type": "code",
   "execution_count": 7,
   "id": "48344671",
   "metadata": {},
   "outputs": [],
   "source": [
    "def read_candles(path):\n",
    "    column_names = [\"time\", \"open\", \"high\", \"low\", \"close\", \"volume\"]\n",
    "    candles = pd.read_csv(candles_path, '|', names=column_names, usecols=range(6), header=None)\n",
    "    candles.set_index(\"time\", inplace=True)\n",
    "    candles.index = pd.to_datetime(candles.index,unit='s')\n",
    "    return candles"
   ]
  },
  {
   "cell_type": "code",
   "execution_count": 8,
   "id": "6644cb21",
   "metadata": {},
   "outputs": [],
   "source": [
    "candle_series = read_candles(candles_path)"
   ]
  },
  {
   "cell_type": "code",
   "execution_count": 9,
   "id": "5d0d7d15",
   "metadata": {},
   "outputs": [],
   "source": [
    "# get series\n",
    "close_balance_series = get_series(os.path.join(series_dir, \"close-balance-series.csv\"))\n",
    "equity_series = get_series(os.path.join(series_dir, \"equity-series.csv\"))\n",
    "open_order_series = get_series(os.path.join(series_dir, \"open-order-series.csv\"))\n",
    "close_order_series = get_series(os.path.join(series_dir, \"close-order-series.csv\"))\n",
    "exit_indic_series = get_series(os.path.join(series_dir, \"exit-indic-series.csv\"))\n",
    "entry_indic_series = get_series(os.path.join(series_dir, \"entry-indic-series.csv\"))"
   ]
  },
  {
   "cell_type": "code",
   "execution_count": 10,
   "id": "858f54f5",
   "metadata": {},
   "outputs": [],
   "source": [
    "# rename index\n",
    "index_name = \"Čas\"\n",
    "close_balance_series.index.name = index_name\n",
    "equity_series.index.name = index_name\n",
    "open_order_series.index.name = index_name\n",
    "close_order_series.index.name = index_name\n",
    "exit_indic_series.index.name = index_name\n",
    "entry_indic_series.index.name = index_name"
   ]
  },
  {
   "cell_type": "code",
   "execution_count": 11,
   "id": "6181becc",
   "metadata": {},
   "outputs": [],
   "source": [
    "# rename columns\n",
    "time_col = \"Čas\"\n",
    "entry_level_pattern = \"{}. vstupní úroveň\"\n",
    "\n",
    "entry_column_names = []\n",
    "for i in range(len(entry_indic_series.columns)):\n",
    "        entry_column_names.append(entry_level_pattern.format(i+1))\n",
    "\n",
    "equity_column_name = \"Čistá hodnota\"\n",
    "equity_series.columns = [equity_column_name]\n",
    "close_balance_column_name = \"Zůstatek po uzavření pozice\"\n",
    "close_balance_series.columns = [close_balance_column_name]\n",
    "open_order_series.columns = [\"Otevírací objednávka\"]\n",
    "close_order_series.columns = [\"Uzavírací objednávka\"]\n",
    "exit_indic_series.columns = [\"Výstupní úroveň\"]\n",
    "entry_indic_series.columns = entry_column_names"
   ]
  },
  {
   "cell_type": "code",
   "execution_count": 12,
   "id": "c0353ee0",
   "metadata": {},
   "outputs": [],
   "source": [
    "# reindex\n",
    "entry_indic_series = entry_indic_series.reindex(candle_series.index)\n",
    "open_order_series = open_order_series.reindex(candle_series.index)\n",
    "close_order_series = close_order_series.reindex(candle_series.index)\n",
    "exit_indic_series = exit_indic_series.reindex(candle_series.index)\n",
    "entry_indic_series = entry_indic_series.reindex(candle_series.index)"
   ]
  },
  {
   "cell_type": "code",
   "execution_count": null,
   "id": "452b3adb",
   "metadata": {},
   "outputs": [],
   "source": [
    "fig, (ax1, ax2, ax3) = plt.subplots(3, 1, figsize=(10, 10))\n",
    "data_name = \"\"\n",
    "fig.suptitle(\"{}\".format(asset_name), fontsize=16)\n",
    "\n",
    "amount_name = \"Částka ({})\".format(quote_name)\n",
    "price_name = \"Cena ({})\".format(quote_name)\n",
    "\n",
    "ax1.step(equity_series.index, equity_series[equity_column_name], where=\"post\", label=equity_column_name)\n",
    "ax1.legend()\n",
    "ax1.set_ylabel(amount_name)\n",
    "\n",
    "ax2.step(close_balance_series.index, close_balance_series[close_balance_column_name], where=\"post\",\n",
    "         label=close_balance_column_name)\n",
    "ax2.legend()\n",
    "ax2.set_ylabel(amount_name)\n",
    "\n",
    "ax3.plot(candle_series.index, candle_series['close'], label=\"Uzavírací cena svíčky\");\n",
    "ax3.legend()\n",
    "ax3.set_ylabel(price_name)\n",
    "# ax3.vlines(close_order_series.index, ymin=0, ymax=1, linewidth=1, color='g')\n",
    "\n",
    "for idx in close_order_series.index:\n",
    "    plt.axvline(x=idx, color='b', label='axvline - full height')\n",
    "\n",
    "\"\"\"\n",
    "ax4.plot(candle_series.index, candle_series['volume'], label=\"Objem\");\n",
    "ax4.legend()\n",
    "ax4.set_ylabel(\"Množství ({})\".format(base_name))\n",
    "\"\"\"\n",
    "\n",
    "fig.tight_layout()"
   ]
  },
  {
   "cell_type": "code",
   "execution_count": 14,
   "id": "3ac3f75b",
   "metadata": {},
   "outputs": [],
   "source": [
    "fig.savefig(os.path.join(experiment_dir, \"historical-simulation.png\"), bbox_inches='tight', dpi=200)"
   ]
  },
  {
   "cell_type": "code",
   "execution_count": 15,
   "id": "3fbff99f",
   "metadata": {},
   "outputs": [
    {
     "ename": "NameError",
     "evalue": "name 'stop' is not defined",
     "output_type": "error",
     "traceback": [
      "\u001b[0;31m---------------------------------------------------------------------------\u001b[0m",
      "\u001b[0;31mNameError\u001b[0m                                 Traceback (most recent call last)",
      "Input \u001b[0;32mIn [15]\u001b[0m, in \u001b[0;36m<cell line: 1>\u001b[0;34m()\u001b[0m\n\u001b[0;32m----> 1\u001b[0m \u001b[43mstop\u001b[49m\n",
      "\u001b[0;31mNameError\u001b[0m: name 'stop' is not defined"
     ]
    }
   ],
   "source": [
    "stop"
   ]
  },
  {
   "cell_type": "code",
   "execution_count": 16,
   "id": "e6b3fb29",
   "metadata": {},
   "outputs": [
    {
     "name": "stderr",
     "output_type": "stream",
     "text": [
      "2023-04-17 11:43:14.543 Python[31038:14884742] +[CATransaction synchronize] called within transaction\n",
      "2023-04-17 11:43:15.286 Python[31038:14884742] +[CATransaction synchronize] called within transaction\n",
      "2023-04-17 11:43:32.608 Python[31038:14884742] +[CATransaction synchronize] called within transaction\n",
      "2023-04-17 11:43:32.763 Python[31038:14884742] +[CATransaction synchronize] called within transaction\n"
     ]
    }
   ],
   "source": [
    "%matplotlib qt\n",
    "\n",
    "minute = 60\n",
    "day = minute*24\n",
    "week = day*7\n",
    "month = week*4\n",
    "year = day*365\n",
    "\n",
    "visible_points_count = [week]\n",
    "title = asset_name\n",
    "\n",
    "for points_count in visible_points_count:\n",
    "    widget = CandlestickWidget(candle_series, entry_indic_series, exit_indic_series, open_order_series,\n",
    "                           close_order_series, title, points_count)\n",
    "    widget.show()"
   ]
  },
  {
   "cell_type": "code",
   "execution_count": null,
   "id": "6973322f",
   "metadata": {},
   "outputs": [],
   "source": []
  }
 ],
 "metadata": {
  "kernelspec": {
   "display_name": "Python 3 (ipykernel)",
   "language": "python",
   "name": "python3"
  },
  "language_info": {
   "codemirror_mode": {
    "name": "ipython",
    "version": 3
   },
   "file_extension": ".py",
   "mimetype": "text/x-python",
   "name": "python",
   "nbconvert_exporter": "python",
   "pygments_lexer": "ipython3",
   "version": "3.10.6"
  }
 },
 "nbformat": 4,
 "nbformat_minor": 5
}
