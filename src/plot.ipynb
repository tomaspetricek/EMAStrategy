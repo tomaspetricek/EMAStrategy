{
 "cells": [
  {
   "cell_type": "code",
   "execution_count": 1,
   "id": "e4294fa7",
   "metadata": {},
   "outputs": [],
   "source": [
    "# import libraries\n",
    "from itertools import chain\n",
    "import numpy as np\n",
    "np.set_printoptions(precision = 4, suppress = True)\n",
    "import pandas as pd\n",
    "import os\n",
    "from datetime import datetime\n",
    "import mplfinance as mpf\n",
    "import matplotlib.pyplot as plt\n",
    "from matplotlib.widgets import Slider\n",
    "from matplotlib.dates import num2date, date2num\n",
    "%matplotlib qt\n",
    "\n",
    "# ignore warnings\n",
    "import warnings\n",
    "warnings.filterwarnings('ignore')"
   ]
  },
  {
   "cell_type": "code",
   "execution_count": 2,
   "id": "8992d49e",
   "metadata": {},
   "outputs": [],
   "source": [
    "out_data_dir = \"../data/out\"\n",
    "in_data_dir = \"../data/in\""
   ]
  },
  {
   "cell_type": "code",
   "execution_count": 3,
   "id": "d81ce369",
   "metadata": {},
   "outputs": [],
   "source": [
    "def get_data_points(csv_path, sep=\",\", date_col=\"time\"):    \n",
    "    # read file\n",
    "    data_points = pd.read_csv(csv_path, sep)\n",
    "    \n",
    "    # convert time\n",
    "    data_points[date_col] = data_points[date_col].apply(lambda x: datetime.utcfromtimestamp(x))\n",
    "    \n",
    "    # set index\n",
    "    data_points.set_index(date_col, inplace=True)\n",
    "\n",
    "    return data_points"
   ]
  },
  {
   "cell_type": "code",
   "execution_count": 4,
   "id": "94fd2900",
   "metadata": {},
   "outputs": [],
   "source": [
    "open_points = get_data_points(os.path.join(out_data_dir, \"open_points.csv\"))\n",
    "close_points = get_data_points(os.path.join(out_data_dir, \"closed_points.csv\"))\n",
    "mean_price_points = get_data_points(os.path.join(out_data_dir, \"mean_price_points.csv\"))\n",
    "indic_points = get_data_points(os.path.join(out_data_dir, \"indicator_values.csv\"))"
   ]
  },
  {
   "cell_type": "code",
   "execution_count": 5,
   "id": "fa4d9aa4",
   "metadata": {},
   "outputs": [],
   "source": [
    "candlestick_points = get_data_points(os.path.join(in_data_dir, \"btc-usdt-30-min.csv\"), sep=\";\")"
   ]
  },
  {
   "cell_type": "code",
   "execution_count": 6,
   "id": "f13bad0f",
   "metadata": {},
   "outputs": [],
   "source": [
    "# reindex\n",
    "open_points = open_points.reindex(candlestick_points.index)\n",
    "closed_points = close_points.reindex(candlestick_points.index)\n",
    "mean_price_points = mean_price_points.reindex(candlestick_points.index)\n",
    "indic_points = indic_points.reindex(candlestick_points.index)"
   ]
  },
  {
   "cell_type": "code",
   "execution_count": 7,
   "id": "a35056a9",
   "metadata": {},
   "outputs": [],
   "source": [
    "pair = \"BTC/USDT\"\n",
    "interval = \"30 min\"\n",
    "title = f\"{pair}\\n{interval}\""
   ]
  },
  {
   "cell_type": "code",
   "execution_count": 8,
   "id": "80005dcf",
   "metadata": {},
   "outputs": [],
   "source": [
    "class CandlestickWidget:\n",
    "    def __init__(self, candlestick_points, indic_points, mean_price_points, open_points, closed_points,\n",
    "                 fig_title, n_points_visible=250):\n",
    "        self._candlestick_points = candlestick_points\n",
    "        self._min_time = self._candlestick_points.index[0]\n",
    "        self._indic_points = indic_points\n",
    "        self._mean_price_points = mean_price_points\n",
    "        self._open_points = open_points\n",
    "        self._closed_points = closed_points\n",
    "        self._n_points_visible = n_points_visible\n",
    "        max_time = self._candlestick_points.index[n_points_visible]\n",
    "        self._delta_time = max_time - self._min_time\n",
    "        self._create_labels()\n",
    "        self._create_figure(fig_title)\n",
    "        self._create_slider()\n",
    "        \n",
    "    def _create_figure(self, title):\n",
    "        # turn off showing of figure after creation\n",
    "        plt.ioff()\n",
    "        \n",
    "        # create figure\n",
    "        self._fig = mpf.figure(style='binance', figsize=(10, 6))\n",
    "        self._fig.suptitle(title)\n",
    "        self._ax = self._fig.add_subplot(1,1,1)\n",
    "        plt.subplots_adjust(bottom=0.25) # add space for slider\n",
    "        \n",
    "        # shrink axis to fit legend\n",
    "        box = self._ax.get_position()\n",
    "        shrink_ratio = 0.85\n",
    "        self._ax.set_position([box.x0, box.y0, box.width * shrink_ratio, box.height])\n",
    "        \n",
    "    def _create_labels(self):\n",
    "        self._labels = [\n",
    "            'candlestick wick', 'candlestick body',\n",
    "            *list(indic_points), *list(mean_price_points),\n",
    "            \"open position\", \"closed position\"\n",
    "        ]\n",
    "        \n",
    "    def _create_slider(self):\n",
    "        slider_ax = plt.axes([0.18, 0.05, 0.6, 0.03])\n",
    "        slider_max_index = len(self._candlestick_points.index) - self._n_points_visible - 1\n",
    "        slider_max_time = self._candlestick_points.index[slider_max_index]\n",
    "        slider_min_val = date2num(self._min_time)\n",
    "        slider_max_val = date2num(slider_max_time)\n",
    "        self._time_slider = Slider(slider_ax, \"time\", slider_min_val, slider_max_val)\n",
    "\n",
    "        # add time ticks\n",
    "        slider_ax.add_artist(slider_ax.xaxis)\n",
    "        time_tick_vals = np.linspace(slider_min_val, slider_max_val, 8)\n",
    "        slider_ax.set_xticks(time_tick_vals, [num2date(s).strftime(\"%m-%d-%y\") for s in time_tick_vals])\n",
    "        \n",
    "        # add update callback\n",
    "        self._time_slider.on_changed(self._update)\n",
    "        \n",
    "        # make initial update\n",
    "        self._update(slider_min_val)\n",
    "        \n",
    "    def _plot_data_points(self, min_time, max_time):\n",
    "        self._ax.clear()\n",
    "        addons = [\n",
    "            mpf.make_addplot(self._indic_points.loc[min_time:max_time], ax=self._ax),\n",
    "            mpf.make_addplot(self._mean_price_points.loc[min_time:max_time], ax=self._ax),\n",
    "            mpf.make_addplot(self._open_points.loc[min_time:max_time], ax=self._ax,\n",
    "                             type='scatter', markersize=200, marker='^'),\n",
    "            mpf.make_addplot(self._closed_points.loc[min_time:max_time], ax=self._ax,\n",
    "                             type='scatter', markersize=200, marker='v'),\n",
    "        ]\n",
    "        mpf.plot(self._candlestick_points.loc[min_time:max_time], ax=self._ax,\n",
    "                 addplot=addons, type='candle', style='binance')\n",
    "        self._ax.legend(self._labels, loc='center left', bbox_to_anchor=(1, 0.5))\n",
    "        \n",
    "    def _update(self, min_pos):\n",
    "        min_time = num2date(min_pos)\n",
    "        max_time = num2date(min_pos) + self._delta_time\n",
    "        self._plot_data_points(min_time, max_time)\n",
    "        self._time_slider.valtext.set_text(min_time.strftime(\"%m/%d/%Y, %H:%M:%S\"))\n",
    "        self._fig.canvas.draw_idle()\n",
    "    \n",
    "    def show(self):\n",
    "        self._fig.show()"
   ]
  },
  {
   "cell_type": "code",
   "execution_count": 9,
   "id": "9086b629",
   "metadata": {},
   "outputs": [],
   "source": [
    "candles = CandlestickWidget(candlestick_points, indic_points, mean_price_points, open_points, closed_points, title)"
   ]
  },
  {
   "cell_type": "code",
   "execution_count": 12,
   "id": "c2d090fc",
   "metadata": {},
   "outputs": [],
   "source": [
    "candles.show()"
   ]
  },
  {
   "cell_type": "code",
   "execution_count": null,
   "id": "63166d49",
   "metadata": {},
   "outputs": [],
   "source": []
  }
 ],
 "metadata": {
  "kernelspec": {
   "display_name": "Python 3 (ipykernel)",
   "language": "python",
   "name": "python3"
  },
  "language_info": {
   "codemirror_mode": {
    "name": "ipython",
    "version": 3
   },
   "file_extension": ".py",
   "mimetype": "text/x-python",
   "name": "python",
   "nbconvert_exporter": "python",
   "pygments_lexer": "ipython3",
   "version": "3.10.6"
  }
 },
 "nbformat": 4,
 "nbformat_minor": 5
}
