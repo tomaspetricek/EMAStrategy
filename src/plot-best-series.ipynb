{
 "cells": [
  {
   "cell_type": "code",
   "execution_count": 1,
   "id": "d36c1a17",
   "metadata": {},
   "outputs": [],
   "source": [
    "# import libraries\n",
    "import numpy as np\n",
    "np.set_printoptions(precision = 4, suppress = True)\n",
    "import pandas as pd\n",
    "import os\n",
    "from datetime import datetime\n",
    "import matplotlib.pyplot as plt\n",
    "\n",
    "# ignore warnings\n",
    "import warnings\n",
    "warnings.filterwarnings('ignore')\n",
    "\n",
    "# import modules\n",
    "from widgets import CandlestickWidget\n",
    "\n",
    "import mplfinance as mpf"
   ]
  },
  {
   "cell_type": "code",
   "execution_count": 2,
   "id": "6fc73bed",
   "metadata": {},
   "outputs": [],
   "source": [
    "out_dir = \"./data/out/brute force/56\"\n",
    "series_dir = os.path.join(out_dir, \"best-series\")\n",
    "in_dir = \"./data/in\"\n",
    "candles_path = os.path.join(in_dir, \"ohlcv-eth-usdt-1-min.csv\")"
   ]
  },
  {
   "cell_type": "code",
   "execution_count": 3,
   "id": "7c67f5ce",
   "metadata": {},
   "outputs": [],
   "source": [
    "def get_series(csv_path, sep=',', time_col=\"time\"):\n",
    "    series = pd.read_csv(csv_path, sep)\n",
    "    series.drop(index=0)\n",
    "    series[time_col] = pd.to_datetime(series[time_col], unit='s')\n",
    "    series.set_index(time_col, inplace=True)\n",
    "    return series"
   ]
  },
  {
   "cell_type": "code",
   "execution_count": 4,
   "id": "6644cb21",
   "metadata": {},
   "outputs": [],
   "source": [
    "column_names = [\"time\", \"open\", \"high\", \"low\", \"close\"]\n",
    "candle_series = pd.read_csv(candles_path, '|', names=column_names, usecols=range(5), header=None)\n",
    "candle_series.set_index(\"time\", inplace=True)\n",
    "candle_series.index = pd.to_datetime(candle_series.index,unit='s')"
   ]
  },
  {
   "cell_type": "code",
   "execution_count": 5,
   "id": "94a9cede",
   "metadata": {},
   "outputs": [
    {
     "data": {
      "text/html": [
       "<div>\n",
       "<style scoped>\n",
       "    .dataframe tbody tr th:only-of-type {\n",
       "        vertical-align: middle;\n",
       "    }\n",
       "\n",
       "    .dataframe tbody tr th {\n",
       "        vertical-align: top;\n",
       "    }\n",
       "\n",
       "    .dataframe thead th {\n",
       "        text-align: right;\n",
       "    }\n",
       "</style>\n",
       "<table border=\"1\" class=\"dataframe\">\n",
       "  <thead>\n",
       "    <tr style=\"text-align: right;\">\n",
       "      <th></th>\n",
       "      <th>open</th>\n",
       "      <th>high</th>\n",
       "      <th>low</th>\n",
       "      <th>close</th>\n",
       "    </tr>\n",
       "    <tr>\n",
       "      <th>time</th>\n",
       "      <th></th>\n",
       "      <th></th>\n",
       "      <th></th>\n",
       "      <th></th>\n",
       "    </tr>\n",
       "  </thead>\n",
       "  <tbody>\n",
       "    <tr>\n",
       "      <th>2017-08-17 04:00:00</th>\n",
       "      <td>301.13</td>\n",
       "      <td>301.13</td>\n",
       "      <td>301.13</td>\n",
       "      <td>301.13</td>\n",
       "    </tr>\n",
       "    <tr>\n",
       "      <th>2017-08-17 04:01:00</th>\n",
       "      <td>301.13</td>\n",
       "      <td>301.13</td>\n",
       "      <td>301.13</td>\n",
       "      <td>301.13</td>\n",
       "    </tr>\n",
       "    <tr>\n",
       "      <th>2017-08-17 04:02:00</th>\n",
       "      <td>300.00</td>\n",
       "      <td>300.00</td>\n",
       "      <td>300.00</td>\n",
       "      <td>300.00</td>\n",
       "    </tr>\n",
       "    <tr>\n",
       "      <th>2017-08-17 04:03:00</th>\n",
       "      <td>300.00</td>\n",
       "      <td>300.00</td>\n",
       "      <td>300.00</td>\n",
       "      <td>300.00</td>\n",
       "    </tr>\n",
       "    <tr>\n",
       "      <th>2017-08-17 04:04:00</th>\n",
       "      <td>301.13</td>\n",
       "      <td>301.13</td>\n",
       "      <td>301.13</td>\n",
       "      <td>301.13</td>\n",
       "    </tr>\n",
       "    <tr>\n",
       "      <th>2017-08-17 04:05:00</th>\n",
       "      <td>300.00</td>\n",
       "      <td>301.13</td>\n",
       "      <td>300.00</td>\n",
       "      <td>301.13</td>\n",
       "    </tr>\n",
       "    <tr>\n",
       "      <th>2017-08-17 04:06:00</th>\n",
       "      <td>300.10</td>\n",
       "      <td>300.10</td>\n",
       "      <td>300.10</td>\n",
       "      <td>300.10</td>\n",
       "    </tr>\n",
       "    <tr>\n",
       "      <th>2017-08-17 04:07:00</th>\n",
       "      <td>300.10</td>\n",
       "      <td>300.10</td>\n",
       "      <td>300.10</td>\n",
       "      <td>300.10</td>\n",
       "    </tr>\n",
       "    <tr>\n",
       "      <th>2017-08-17 04:08:00</th>\n",
       "      <td>300.10</td>\n",
       "      <td>300.10</td>\n",
       "      <td>298.00</td>\n",
       "      <td>298.00</td>\n",
       "    </tr>\n",
       "    <tr>\n",
       "      <th>2017-08-17 04:09:00</th>\n",
       "      <td>298.00</td>\n",
       "      <td>298.00</td>\n",
       "      <td>298.00</td>\n",
       "      <td>298.00</td>\n",
       "    </tr>\n",
       "  </tbody>\n",
       "</table>\n",
       "</div>"
      ],
      "text/plain": [
       "                       open    high     low   close\n",
       "time                                               \n",
       "2017-08-17 04:00:00  301.13  301.13  301.13  301.13\n",
       "2017-08-17 04:01:00  301.13  301.13  301.13  301.13\n",
       "2017-08-17 04:02:00  300.00  300.00  300.00  300.00\n",
       "2017-08-17 04:03:00  300.00  300.00  300.00  300.00\n",
       "2017-08-17 04:04:00  301.13  301.13  301.13  301.13\n",
       "2017-08-17 04:05:00  300.00  301.13  300.00  301.13\n",
       "2017-08-17 04:06:00  300.10  300.10  300.10  300.10\n",
       "2017-08-17 04:07:00  300.10  300.10  300.10  300.10\n",
       "2017-08-17 04:08:00  300.10  300.10  298.00  298.00\n",
       "2017-08-17 04:09:00  298.00  298.00  298.00  298.00"
      ]
     },
     "execution_count": 5,
     "metadata": {},
     "output_type": "execute_result"
    }
   ],
   "source": [
    "candle_series.head(10)"
   ]
  },
  {
   "cell_type": "code",
   "execution_count": 6,
   "id": "5d0d7d15",
   "metadata": {},
   "outputs": [],
   "source": [
    "# get series\n",
    "close_balance_series = get_series(os.path.join(series_dir, \"close-balance-series.csv\"))\n",
    "equity_series = get_series(os.path.join(series_dir, \"equity-series.csv\"))\n",
    "open_order_series = get_series(os.path.join(series_dir, \"open-order-series.csv\"))\n",
    "close_order_series = get_series(os.path.join(series_dir, \"close-order-series.csv\"))\n",
    "exit_indic_series = get_series(os.path.join(series_dir, \"exit-indic-series.csv\"))\n",
    "entry_indic_series = get_series(os.path.join(series_dir, \"entry-indic-series.csv\"))"
   ]
  },
  {
   "cell_type": "code",
   "execution_count": 8,
   "id": "de8c3d48",
   "metadata": {},
   "outputs": [
    {
     "data": {
      "image/png": "[encoded data removed]",
      "text/plain": [
       "<Figure size 1200x600 with 1 Axes>"
      ]
     },
     "metadata": {},
     "output_type": "display_data"
    }
   ],
   "source": [
    "# plot last position\n",
    "fig, ax = plt.subplots(figsize=(12, 6))\n",
    "ax.step(equity_series.index, equity_series[\"equity\"], where=\"post\", label=\"equity\")\n",
    "ax.legend();"
   ]
  },
  {
   "cell_type": "code",
   "execution_count": 9,
   "id": "3ac3f75b",
   "metadata": {},
   "outputs": [],
   "source": [
    "fig.savefig(os.path.join(out_dir, \"equity.png\"), bbox_inches='tight', dpi=200)"
   ]
  },
  {
   "cell_type": "code",
   "execution_count": 10,
   "id": "c33cd497",
   "metadata": {},
   "outputs": [],
   "source": [
    "# reindex\n",
    "entry_indic_series = entry_indic_series.reindex(candle_series.index)\n",
    "open_order_series = open_order_series.reindex(candle_series.index)\n",
    "close_order_series = close_order_series.reindex(candle_series.index)\n",
    "exit_indic_series = exit_indic_series.reindex(candle_series.index)\n",
    "entry_indic_series = entry_indic_series.reindex(candle_series.index)"
   ]
  },
  {
   "cell_type": "code",
   "execution_count": 11,
   "id": "e6b3fb29",
   "metadata": {},
   "outputs": [
    {
     "name": "stderr",
     "output_type": "stream",
     "text": [
      "2023-04-13 18:00:06.265 Python[49116:11137873] +[CATransaction synchronize] called within transaction\n",
      "2023-04-13 18:00:06.280 Python[49116:11137873] +[CATransaction synchronize] called within transaction\n",
      "2023-04-13 18:00:08.400 Python[49116:11137873] +[CATransaction synchronize] called within transaction\n"
     ]
    }
   ],
   "source": [
    "%matplotlib qt\n",
    "widget = CandlestickWidget(candle_series, entry_indic_series, exit_indic_series, open_order_series,\n",
    "                           close_order_series, \"historical simulation\", 10_000)\n",
    "widget.show()"
   ]
  },
  {
   "cell_type": "code",
   "execution_count": null,
   "id": "6973322f",
   "metadata": {},
   "outputs": [],
   "source": []
  }
 ],
 "metadata": {
  "kernelspec": {
   "display_name": "Python 3 (ipykernel)",
   "language": "python",
   "name": "python3"
  },
  "language_info": {
   "codemirror_mode": {
    "name": "ipython",
    "version": 3
   },
   "file_extension": ".py",
   "mimetype": "text/x-python",
   "name": "python",
   "nbconvert_exporter": "python",
   "pygments_lexer": "ipython3",
   "version": "3.10.6"
  }
 },
 "nbformat": 4,
 "nbformat_minor": 5
}
