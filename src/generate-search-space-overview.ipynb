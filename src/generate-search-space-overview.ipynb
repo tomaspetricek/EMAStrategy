{
 "cells": [
  {
   "cell_type": "code",
   "execution_count": 1,
   "id": "3baf911b",
   "metadata": {},
   "outputs": [],
   "source": [
    "import pandas as pd\n",
    "import json\n",
    "import os\n",
    "import numpy as np"
   ]
  },
  {
   "cell_type": "code",
   "execution_count": 2,
   "id": "75c33502",
   "metadata": {},
   "outputs": [],
   "source": [
    "out_dir = \"./data/out\"\n",
    "in_dir = \"./data/in\""
   ]
  },
  {
   "cell_type": "code",
   "execution_count": 3,
   "id": "91b51bca",
   "metadata": {},
   "outputs": [],
   "source": [
    "optimizer_name = \"brute force\"\n",
    "set_names = [\"set-1\", \"set-2\", \"set-3\"]\n",
    "optimizer_dir = os.path.join(out_dir, optimizer_name)"
   ]
  },
  {
   "cell_type": "code",
   "execution_count": 4,
   "id": "85db3e1f",
   "metadata": {},
   "outputs": [],
   "source": [
    "def ftos(num):\n",
    "    out = \"{:,.1f}\".format(num).replace(',', ' ')\n",
    "    return out.replace(\".\", \",\")"
   ]
  },
  {
   "cell_type": "code",
   "execution_count": 5,
   "id": "84133278",
   "metadata": {},
   "outputs": [],
   "source": [
    "def rtof(frac):\n",
    "    num, denom = frac.split(\"/\")\n",
    "    return float(num)/float(denom)"
   ]
  },
  {
   "cell_type": "code",
   "execution_count": 6,
   "id": "ab1af456",
   "metadata": {},
   "outputs": [],
   "source": [
    "def convert_level(level):\n",
    "    return ftos((rtof(level)-1.)*100)"
   ]
  },
  {
   "cell_type": "code",
   "execution_count": 7,
   "id": "cce1a9e1",
   "metadata": {},
   "outputs": [],
   "source": [
    "def list_to_string(arr):\n",
    "    begin = r\"\\([\\begin{array}{\" + \"c\"*len(arr) + \"} \" \n",
    "    end = r\"\\end{array}]\\)\"\n",
    "    out = begin\n",
    "    \n",
    "    for i in range(len(arr)-1):\n",
    "        out += arr[i] + \" & \"\n",
    "    \n",
    "    out += arr[-1] + \" \" + end\n",
    "    return out"
   ]
  },
  {
   "cell_type": "code",
   "execution_count": 8,
   "id": "e5ba9184",
   "metadata": {},
   "outputs": [],
   "source": [
    "set_col_name = \"Sada\"\n",
    "resampling_col_name = \"Převzorkovací období\"\n",
    "levels_unique_count_col_name = \"Úrovně nákupu počet jedinečných hodnot\"\n",
    "levels_lower_bound_col_name = \"Úrovně nákupu spodní hranice\"\n",
    "unique_sizes_count_col_name = \"Velikosti nákupu počet jedinečných hodnot\"\n",
    "period_from_col_name = \"Období od\"\n",
    "period_to_col_name = \"Období do\"\n",
    "period_step_col_name = \"Období krok\"\n",
    "types_col_name = \"Indikátory\"\n",
    "\n",
    "set_overview = pd.DataFrame(columns = [\n",
    "    set_col_name,\n",
    "    resampling_col_name,\n",
    "    levels_unique_count_col_name,\n",
    "    levels_lower_bound_col_name,\n",
    "    unique_sizes_count_col_name,\n",
    "    period_from_col_name,\n",
    "    period_to_col_name,\n",
    "    period_step_col_name,\n",
    "    types_col_name\n",
    "])"
   ]
  },
  {
   "cell_type": "code",
   "execution_count": 9,
   "id": "25108bb5",
   "metadata": {},
   "outputs": [],
   "source": [
    "for set_name in set_names:\n",
    "    set_dir = os.path.join(optimizer_dir, set_name)\n",
    "    experiment_dir = os.path.join(set_dir, \"01\")\n",
    "    settings_path = os.path.join(experiment_dir, \"settings.json\")\n",
    "    \n",
    "    settings_file = open(settings_path, \"r\")\n",
    "    settings_doc = json.loads(settings_file.read())\n",
    "    \n",
    "    resampling = settings_doc[\"resampling\"][\"period[min]\"]\n",
    "    \n",
    "    search_space_doc = settings_doc[\"search space\"]\n",
    "    levels_doc = search_space_doc[\"levels\"]\n",
    "    levels_unique_count = levels_doc[\"unique count\"]\n",
    "    levels_lower_bound = levels_doc[\"lower bound\"]\n",
    "    unique_sizes_count = search_space_doc[\"open order sizes\"][\"unique count\"]\n",
    "    \n",
    "    indicator_doc = search_space_doc[\"indicator\"]\n",
    "    period_doc = indicator_doc[\"period\"]\n",
    "    period_from = period_doc[\"from\"]\n",
    "    period_to = period_doc[\"to\"]\n",
    "    period_step = period_doc[\"step\"]\n",
    "    types = indicator_doc[\"types\"]\n",
    "    \n",
    "    for i in range(len(types)):\n",
    "        types[i] = types[i].upper()\n",
    "        \n",
    "    types = list_to_string(types)\n",
    "\n",
    "    set_overview.loc[len(set_overview)] = {\n",
    "        set_col_name : set_name.replace(\"set-\", \"\"),\n",
    "        resampling_col_name : resampling,\n",
    "        levels_unique_count_col_name : levels_unique_count,\n",
    "        levels_lower_bound_col_name : convert_level(levels_lower_bound),\n",
    "        unique_sizes_count_col_name : unique_sizes_count,\n",
    "        period_from_col_name : period_from,\n",
    "        period_to_col_name : period_to,\n",
    "        period_step_col_name : period_step,\n",
    "        types_col_name : types,\n",
    "    }"
   ]
  },
  {
   "cell_type": "code",
   "execution_count": 10,
   "id": "5b861d56",
   "metadata": {},
   "outputs": [
    {
     "data": {
      "text/html": [
       "<div>\n",
       "<style scoped>\n",
       "    .dataframe tbody tr th:only-of-type {\n",
       "        vertical-align: middle;\n",
       "    }\n",
       "\n",
       "    .dataframe tbody tr th {\n",
       "        vertical-align: top;\n",
       "    }\n",
       "\n",
       "    .dataframe thead th {\n",
       "        text-align: right;\n",
       "    }\n",
       "</style>\n",
       "<table border=\"1\" class=\"dataframe\">\n",
       "  <thead>\n",
       "    <tr style=\"text-align: right;\">\n",
       "      <th></th>\n",
       "      <th>Sada</th>\n",
       "      <th>Převzorkovací období</th>\n",
       "      <th>Úrovně nákupu počet jedinečných hodnot</th>\n",
       "      <th>Úrovně nákupu spodní hranice</th>\n",
       "      <th>Velikosti nákupu počet jedinečných hodnot</th>\n",
       "      <th>Období od</th>\n",
       "      <th>Období do</th>\n",
       "      <th>Období krok</th>\n",
       "      <th>Indikátory</th>\n",
       "    </tr>\n",
       "  </thead>\n",
       "  <tbody>\n",
       "    <tr>\n",
       "      <th>0</th>\n",
       "      <td>1</td>\n",
       "      <td>45</td>\n",
       "      <td>15</td>\n",
       "      <td>-25,0</td>\n",
       "      <td>6</td>\n",
       "      <td>3</td>\n",
       "      <td>60</td>\n",
       "      <td>3</td>\n",
       "      <td>\\([\\begin{array}{cc} SMA &amp; EMA \\end{array}]\\)</td>\n",
       "    </tr>\n",
       "    <tr>\n",
       "      <th>1</th>\n",
       "      <td>2</td>\n",
       "      <td>45</td>\n",
       "      <td>20</td>\n",
       "      <td>-25,0</td>\n",
       "      <td>6</td>\n",
       "      <td>3</td>\n",
       "      <td>120</td>\n",
       "      <td>3</td>\n",
       "      <td>\\([\\begin{array}{c} SMA \\end{array}]\\)</td>\n",
       "    </tr>\n",
       "    <tr>\n",
       "      <th>2</th>\n",
       "      <td>3</td>\n",
       "      <td>15</td>\n",
       "      <td>15</td>\n",
       "      <td>-40,0</td>\n",
       "      <td>11</td>\n",
       "      <td>3</td>\n",
       "      <td>105</td>\n",
       "      <td>3</td>\n",
       "      <td>\\([\\begin{array}{c} SMA \\end{array}]\\)</td>\n",
       "    </tr>\n",
       "  </tbody>\n",
       "</table>\n",
       "</div>"
      ],
      "text/plain": [
       "  Sada  Převzorkovací období  Úrovně nákupu počet jedinečných hodnot  \\\n",
       "0    1                    45                                      15   \n",
       "1    2                    45                                      20   \n",
       "2    3                    15                                      15   \n",
       "\n",
       "  Úrovně nákupu spodní hranice  Velikosti nákupu počet jedinečných hodnot  \\\n",
       "0                        -25,0                                          6   \n",
       "1                        -25,0                                          6   \n",
       "2                        -40,0                                         11   \n",
       "\n",
       "   Období od  Období do  Období krok  \\\n",
       "0          3         60            3   \n",
       "1          3        120            3   \n",
       "2          3        105            3   \n",
       "\n",
       "                                      Indikátory  \n",
       "0  \\([\\begin{array}{cc} SMA & EMA \\end{array}]\\)  \n",
       "1         \\([\\begin{array}{c} SMA \\end{array}]\\)  \n",
       "2         \\([\\begin{array}{c} SMA \\end{array}]\\)  "
      ]
     },
     "execution_count": 10,
     "metadata": {},
     "output_type": "execute_result"
    }
   ],
   "source": [
    "set_overview"
   ]
  },
  {
   "cell_type": "code",
   "execution_count": 12,
   "id": "ed610bb8",
   "metadata": {},
   "outputs": [],
   "source": [
    "report_dir = \"./data/report\"\n",
    "optimizer_dir = os.path.join(report_dir, optimizer_name)\n",
    "set_overview.to_csv(os.path.join(optimizer_dir, \"set-overview.csv\"), index=False)"
   ]
  },
  {
   "cell_type": "code",
   "execution_count": null,
   "id": "39d54832",
   "metadata": {},
   "outputs": [],
   "source": []
  }
 ],
 "metadata": {
  "kernelspec": {
   "display_name": "Python 3 (ipykernel)",
   "language": "python",
   "name": "python3"
  },
  "language_info": {
   "codemirror_mode": {
    "name": "ipython",
    "version": 3
   },
   "file_extension": ".py",
   "mimetype": "text/x-python",
   "name": "python",
   "nbconvert_exporter": "python",
   "pygments_lexer": "ipython3",
   "version": "3.10.6"
  }
 },
 "nbformat": 4,
 "nbformat_minor": 5
}
