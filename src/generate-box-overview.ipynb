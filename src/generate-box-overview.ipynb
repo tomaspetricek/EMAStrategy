{
 "cells": [
  {
   "cell_type": "code",
   "execution_count": 1,
   "id": "9910cc26",
   "metadata": {},
   "outputs": [],
   "source": [
    "import pandas as pd\n",
    "import json\n",
    "import os\n",
    "import numpy as np\n",
    "\n",
    "import warnings\n",
    "warnings.filterwarnings('ignore')"
   ]
  },
  {
   "cell_type": "code",
   "execution_count": 2,
   "id": "aa72849c",
   "metadata": {},
   "outputs": [],
   "source": [
    "out_dir = \"./data/out\"\n",
    "in_dir = \"./data/in\"\n",
    "heuristic_name = \"simulated annealing\"\n",
    "heuristic_dir = os.path.join(out_dir, heuristic_name)\n",
    "\n",
    "box_name = \"black-box-22\"\n",
    "box_dir = os.path.join(heuristic_dir, box_name)\n",
    "\n",
    "brute_force_name = \"brute force\"\n",
    "set_name = \"set-1\"\n",
    "brute_force_dir = os.path.join(out_dir, brute_force_name)\n",
    "set_dir = os.path.join(brute_force_dir, set_name)"
   ]
  },
  {
   "cell_type": "code",
   "execution_count": 3,
   "id": "5ad8a340",
   "metadata": {},
   "outputs": [],
   "source": [
    "def get_experimnet_dirs(set_dir):\n",
    "    experiment_dirs = []\n",
    "    \n",
    "    for filename in os.listdir(set_dir):\n",
    "        path = os.path.join(set_dir, filename)\n",
    "\n",
    "        if os.path.isdir(path):\n",
    "            experiment_dirs.append(path)\n",
    "    \n",
    "    return experiment_dirs    "
   ]
  },
  {
   "cell_type": "code",
   "execution_count": 4,
   "id": "a7babf3d",
   "metadata": {},
   "outputs": [],
   "source": [
    "def read_text(path):\n",
    "    file = open(path, mode='r')\n",
    "    content = file.read()\n",
    "    file.close()\n",
    "    return content"
   ]
  },
  {
   "cell_type": "code",
   "execution_count": 5,
   "id": "2f4c27ff",
   "metadata": {},
   "outputs": [],
   "source": [
    "def read_json(path):\n",
    "    file = open(path, \"r\")\n",
    "    doc = json.loads(file.read())\n",
    "    file.close()\n",
    "    return doc"
   ]
  },
  {
   "cell_type": "code",
   "execution_count": 6,
   "id": "9810d475",
   "metadata": {},
   "outputs": [],
   "source": [
    "def parse_duration(stamp):\n",
    "    parts = stamp.split(':')\n",
    "    seconds = float(parts[-1])\n",
    "    parts.pop()\n",
    "    \n",
    "    for (i, dur) in enumerate(reversed(parts)):\n",
    "        seconds += float(dur)*(60**(i+1))\n",
    "    \n",
    "    return seconds"
   ]
  },
  {
   "cell_type": "code",
   "execution_count": 7,
   "id": "0aa71e60",
   "metadata": {},
   "outputs": [],
   "source": [
    "def ftos(num):\n",
    "    out = \"{:,.1f}\".format(num).replace(',', ' ')\n",
    "    return out.replace(\".\", \",\")"
   ]
  },
  {
   "cell_type": "code",
   "execution_count": 8,
   "id": "863a9fe8",
   "metadata": {},
   "outputs": [],
   "source": [
    "asset_col_name = \"Měna\"\n",
    "optim_value_col_name = \"Optimalizační hodnota\"\n",
    "duration_col_name = \"Doba trvání (s)\"\n",
    "\n",
    "def read_test_set(set_dir):\n",
    "    duration_name = \"duration: \"\n",
    "    data = []\n",
    "\n",
    "    for experiment_dir in get_experimnet_dirs(set_dir):\n",
    "        log = read_text(os.path.join(experiment_dir, \"log.txt\"))\n",
    "        duration_idx = log.rfind(duration_name)\n",
    "        duration = parse_duration(log[duration_idx:-1].replace(duration_name, \"\"))\n",
    "\n",
    "        best_state_doc = read_json(os.path.join(experiment_dir, \"best-states.json\"))[0]\n",
    "        optim_value = best_state_doc[\"optimization value\"]\n",
    "\n",
    "        settings_doc = read_json(os.path.join(experiment_dir, \"settings.json\"))\n",
    "        asset_name = settings_doc[\"candles\"][\"currency pair\"][\"base\"]\n",
    "        \n",
    "        data.append({\n",
    "            asset_col_name : asset_name,\n",
    "            optim_value_col_name : optim_value,\n",
    "            duration_col_name : duration\n",
    "        })\n",
    "        \n",
    "    overview = pd.DataFrame(data)\n",
    "    return overview.sort_values(asset_col_name)"
   ]
  },
  {
   "cell_type": "code",
   "execution_count": 9,
   "id": "b9ff1c04",
   "metadata": {},
   "outputs": [],
   "source": [
    "optim_value_diff_col_name = \"Rozdíl hodnot optimalizačního kritéria (%)\"\n",
    "acceleration_col_name = \"Zrychlení\"\n",
    "\n",
    "def update_overview(set_overview, box_overview):\n",
    "    box_overview[optim_value_diff_col_name] = np.nan\n",
    "    box_overview[acceleration_col_name] = np.nan\n",
    "\n",
    "    for asset_name in box_overview[asset_col_name]:\n",
    "        box_row = box_overview.loc[box_overview[asset_col_name] == asset_name]\n",
    "        set_row = set_overview.loc[set_overview[asset_col_name] == asset_name]\n",
    "\n",
    "        box_idx = box_row.index[0]\n",
    "        box_row = box_row.to_dict('r')[0]\n",
    "        set_row = set_row.to_dict('r')[0]\n",
    "\n",
    "        box_overview.at[box_idx, acceleration_col_name] = set_row[duration_col_name]/box_row[duration_col_name]\n",
    "        box_overview.at[box_idx, optim_value_diff_col_name] = 100*((box_row[optim_value_col_name]\n",
    "                                                                          -set_row[optim_value_col_name])\n",
    "                                                                         /set_row[optim_value_col_name])"
   ]
  },
  {
   "cell_type": "code",
   "execution_count": 10,
   "id": "bc36ca6b",
   "metadata": {},
   "outputs": [],
   "source": [
    "def convert_overview(box_overview):\n",
    "    box_overview[optim_value_col_name] = box_overview[optim_value_col_name].apply(lambda x: ftos(x))\n",
    "    box_overview[duration_col_name] = box_overview[duration_col_name].apply(lambda x: ftos(x))\n",
    "    box_overview[optim_value_diff_col_name] = box_overview[optim_value_diff_col_name].apply(lambda x: ftos(x))\n",
    "    box_overview[acceleration_col_name] = box_overview[acceleration_col_name].apply(lambda x: ftos(x))"
   ]
  },
  {
   "cell_type": "code",
   "execution_count": 11,
   "id": "1ea1fa3f",
   "metadata": {},
   "outputs": [
    {
     "data": {
      "text/html": [
       "<div>\n",
       "<style scoped>\n",
       "    .dataframe tbody tr th:only-of-type {\n",
       "        vertical-align: middle;\n",
       "    }\n",
       "\n",
       "    .dataframe tbody tr th {\n",
       "        vertical-align: top;\n",
       "    }\n",
       "\n",
       "    .dataframe thead th {\n",
       "        text-align: right;\n",
       "    }\n",
       "</style>\n",
       "<table border=\"1\" class=\"dataframe\">\n",
       "  <thead>\n",
       "    <tr style=\"text-align: right;\">\n",
       "      <th></th>\n",
       "      <th>Optimalizační hodnota</th>\n",
       "      <th>Doba trvání (s)</th>\n",
       "    </tr>\n",
       "  </thead>\n",
       "  <tbody>\n",
       "    <tr>\n",
       "      <th>count</th>\n",
       "      <td>7.000000</td>\n",
       "      <td>7.000000</td>\n",
       "    </tr>\n",
       "    <tr>\n",
       "      <th>mean</th>\n",
       "      <td>570.136477</td>\n",
       "      <td>153.584788</td>\n",
       "    </tr>\n",
       "    <tr>\n",
       "      <th>std</th>\n",
       "      <td>393.574160</td>\n",
       "      <td>34.433531</td>\n",
       "    </tr>\n",
       "    <tr>\n",
       "      <th>min</th>\n",
       "      <td>202.487307</td>\n",
       "      <td>86.857604</td>\n",
       "    </tr>\n",
       "    <tr>\n",
       "      <th>25%</th>\n",
       "      <td>246.772899</td>\n",
       "      <td>146.779317</td>\n",
       "    </tr>\n",
       "    <tr>\n",
       "      <th>50%</th>\n",
       "      <td>581.324902</td>\n",
       "      <td>161.189218</td>\n",
       "    </tr>\n",
       "    <tr>\n",
       "      <th>75%</th>\n",
       "      <td>702.149056</td>\n",
       "      <td>170.490415</td>\n",
       "    </tr>\n",
       "    <tr>\n",
       "      <th>max</th>\n",
       "      <td>1309.299217</td>\n",
       "      <td>192.507231</td>\n",
       "    </tr>\n",
       "  </tbody>\n",
       "</table>\n",
       "</div>"
      ],
      "text/plain": [
       "       Optimalizační hodnota  Doba trvání (s)\n",
       "count               7.000000         7.000000\n",
       "mean              570.136477       153.584788\n",
       "std               393.574160        34.433531\n",
       "min               202.487307        86.857604\n",
       "25%               246.772899       146.779317\n",
       "50%               581.324902       161.189218\n",
       "75%               702.149056       170.490415\n",
       "max              1309.299217       192.507231"
      ]
     },
     "metadata": {},
     "output_type": "display_data"
    },
    {
     "ename": "NameError",
     "evalue": "name 'stop' is not defined",
     "output_type": "error",
     "traceback": [
      "\u001b[0;31m---------------------------------------------------------------------------\u001b[0m",
      "\u001b[0;31mNameError\u001b[0m                                 Traceback (most recent call last)",
      "Input \u001b[0;32mIn [11]\u001b[0m, in \u001b[0;36m<cell line: 2>\u001b[0;34m()\u001b[0m\n\u001b[1;32m      1\u001b[0m display(read_test_set(box_dir)\u001b[38;5;241m.\u001b[39mdescribe())\n\u001b[0;32m----> 2\u001b[0m \u001b[43mstop\u001b[49m\n",
      "\u001b[0;31mNameError\u001b[0m: name 'stop' is not defined"
     ]
    }
   ],
   "source": [
    "display(read_test_set(box_dir).describe())\n",
    "stop"
   ]
  },
  {
   "cell_type": "code",
   "execution_count": null,
   "id": "197d5606",
   "metadata": {},
   "outputs": [],
   "source": [
    "set_overview = read_test_set(set_dir)\n",
    "box_overview = read_test_set(box_dir)\n",
    "update_overview(set_overview, box_overview)\n",
    "convert_overview(box_overview)"
   ]
  },
  {
   "cell_type": "code",
   "execution_count": null,
   "id": "5202711f",
   "metadata": {},
   "outputs": [],
   "source": [
    "# reorder columns\n",
    "cols = [asset_col_name, optim_value_diff_col_name, duration_col_name, acceleration_col_name]\n",
    "box_overview = box_overview[cols]"
   ]
  },
  {
   "cell_type": "code",
   "execution_count": null,
   "id": "905720df",
   "metadata": {},
   "outputs": [],
   "source": [
    "box_overview"
   ]
  },
  {
   "cell_type": "code",
   "execution_count": null,
   "id": "981827e7",
   "metadata": {},
   "outputs": [],
   "source": [
    "report_dir = \"./data/report\"\n",
    "optimizer_dir = os.path.join(report_dir, heuristic_name)\n",
    "\n",
    "if not os.path.exists(optimizer_dir):\n",
    "    os.makedirs(optimizer_dir)\n",
    "\n",
    "box_overview.to_csv(os.path.join(optimizer_dir, box_name + \"-overview.csv\"), index=False)"
   ]
  },
  {
   "cell_type": "code",
   "execution_count": null,
   "id": "0928b27b",
   "metadata": {},
   "outputs": [],
   "source": []
  }
 ],
 "metadata": {
  "kernelspec": {
   "display_name": "Python 3 (ipykernel)",
   "language": "python",
   "name": "python3"
  },
  "language_info": {
   "codemirror_mode": {
    "name": "ipython",
    "version": 3
   },
   "file_extension": ".py",
   "mimetype": "text/x-python",
   "name": "python",
   "nbconvert_exporter": "python",
   "pygments_lexer": "ipython3",
   "version": "3.10.6"
  }
 },
 "nbformat": 4,
 "nbformat_minor": 5
}
